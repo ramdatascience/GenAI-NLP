{
 "cells": [
  {
   "cell_type": "code",
   "execution_count": 60,
   "id": "b28a65dd",
   "metadata": {},
   "outputs": [],
   "source": [
    "import pandas as pd\n",
    "import os\n",
    "import sys\n",
    "import re\n",
    "import nltk\n",
    "from nltk.tokenize import word_tokenize\n",
    "from nltk.corpus import stopwords\n",
    "from nltk.stem import WordNetLemmatizer\n",
    "from nltk.stem.porter import PorterStemmer"
   ]
  },
  {
   "cell_type": "code",
   "execution_count": 61,
   "id": "528589dd",
   "metadata": {},
   "outputs": [
    {
     "data": {
      "text/html": [
       "<div>\n",
       "<style scoped>\n",
       "    .dataframe tbody tr th:only-of-type {\n",
       "        vertical-align: middle;\n",
       "    }\n",
       "\n",
       "    .dataframe tbody tr th {\n",
       "        vertical-align: top;\n",
       "    }\n",
       "\n",
       "    .dataframe thead th {\n",
       "        text-align: right;\n",
       "    }\n",
       "</style>\n",
       "<table border=\"1\" class=\"dataframe\">\n",
       "  <thead>\n",
       "    <tr style=\"text-align: right;\">\n",
       "      <th></th>\n",
       "      <th>label</th>\n",
       "      <th>text</th>\n",
       "    </tr>\n",
       "  </thead>\n",
       "  <tbody>\n",
       "    <tr>\n",
       "      <th>0</th>\n",
       "      <td>MajorClaim</td>\n",
       "      <td>we should attach more importance to cooperatio...</td>\n",
       "    </tr>\n",
       "    <tr>\n",
       "      <th>1</th>\n",
       "      <td>Premise</td>\n",
       "      <td>Take Olympic games which is a form of competit...</td>\n",
       "    </tr>\n",
       "    <tr>\n",
       "      <th>2</th>\n",
       "      <td>Premise</td>\n",
       "      <td>The high technology and new ideas applied into...</td>\n",
       "    </tr>\n",
       "    <tr>\n",
       "      <th>3</th>\n",
       "      <td>Premise</td>\n",
       "      <td>pollutions are not just caused by the burning ...</td>\n",
       "    </tr>\n",
       "    <tr>\n",
       "      <th>4</th>\n",
       "      <td>Premise</td>\n",
       "      <td>the improvements of work efficiency also attri...</td>\n",
       "    </tr>\n",
       "    <tr>\n",
       "      <th>...</th>\n",
       "      <td>...</td>\n",
       "      <td>...</td>\n",
       "    </tr>\n",
       "    <tr>\n",
       "      <th>6084</th>\n",
       "      <td>MajorClaim</td>\n",
       "      <td>addressing pollution and traffic issues only b...</td>\n",
       "    </tr>\n",
       "    <tr>\n",
       "      <th>6085</th>\n",
       "      <td>Premise</td>\n",
       "      <td>whether it can work out for alleviating traffi...</td>\n",
       "    </tr>\n",
       "    <tr>\n",
       "      <th>6086</th>\n",
       "      <td>Premise</td>\n",
       "      <td>price control institution has been used in ple...</td>\n",
       "    </tr>\n",
       "    <tr>\n",
       "      <th>6087</th>\n",
       "      <td>Claim</td>\n",
       "      <td>it seems not easy to increase petrol price ins...</td>\n",
       "    </tr>\n",
       "    <tr>\n",
       "      <th>6088</th>\n",
       "      <td>Premise</td>\n",
       "      <td>governments have a macro-economic perspective ...</td>\n",
       "    </tr>\n",
       "  </tbody>\n",
       "</table>\n",
       "<p>6089 rows × 2 columns</p>\n",
       "</div>"
      ],
      "text/plain": [
       "           label                                               text\n",
       "0     MajorClaim  we should attach more importance to cooperatio...\n",
       "1        Premise  Take Olympic games which is a form of competit...\n",
       "2        Premise  The high technology and new ideas applied into...\n",
       "3        Premise  pollutions are not just caused by the burning ...\n",
       "4        Premise  the improvements of work efficiency also attri...\n",
       "...          ...                                                ...\n",
       "6084  MajorClaim  addressing pollution and traffic issues only b...\n",
       "6085     Premise  whether it can work out for alleviating traffi...\n",
       "6086     Premise  price control institution has been used in ple...\n",
       "6087       Claim  it seems not easy to increase petrol price ins...\n",
       "6088     Premise  governments have a macro-economic perspective ...\n",
       "\n",
       "[6089 rows x 2 columns]"
      ]
     },
     "execution_count": 61,
     "metadata": {},
     "output_type": "execute_result"
    }
   ],
   "source": [
    "\n",
    "#File Path given by folder_path = r\"r\"D:\\Innomatics\\text\"\n",
    "\n",
    "folder_path = r\"D:\\Innomatics\\text\"\n",
    "# Initialize an empty list to store the data\n",
    "all_data = []\n",
    "\n",
    "# Iterate over each file in the folder\n",
    "for filename in os.listdir(folder_path):\n",
    "    if filename.endswith('.txt'):\n",
    "        file_path = os.path.join(folder_path, filename)\n",
    "        \n",
    "        # Open and read the file\n",
    "        with open(file_path, 'r') as file:\n",
    "            content = file.read().strip()\n",
    "            # Append the filename and content to the list\n",
    "            all_data .append([filename, content])\n",
    "\n",
    "# Convert the list to a DataFrame\n",
    "df = pd.DataFrame(all_data , columns=['Filename', 'Content'])\n",
    "\n",
    "# Split and create a Label Column\n",
    "df[\"label\"]=df[\"Content\"].apply(lambda x:x.split(\"\\n\")[0])\n",
    "\n",
    "# Split and create a text Column\n",
    "df[\"text\"]=df[\"Content\"].apply(lambda x:x.split(\"\\n\")[1])\n",
    "\n",
    "# Drop the unwanted Column\n",
    "df.drop([\"Content\",\"Filename\"],axis=1,inplace=True)\n",
    "\n",
    "# Show the Dataframe\n",
    "df"
   ]
  },
  {
   "cell_type": "code",
   "execution_count": 62,
   "id": "40dd56a8",
   "metadata": {},
   "outputs": [
    {
     "data": {
      "text/html": [
       "<div>\n",
       "<style scoped>\n",
       "    .dataframe tbody tr th:only-of-type {\n",
       "        vertical-align: middle;\n",
       "    }\n",
       "\n",
       "    .dataframe tbody tr th {\n",
       "        vertical-align: top;\n",
       "    }\n",
       "\n",
       "    .dataframe thead th {\n",
       "        text-align: right;\n",
       "    }\n",
       "</style>\n",
       "<table border=\"1\" class=\"dataframe\">\n",
       "  <thead>\n",
       "    <tr style=\"text-align: right;\">\n",
       "      <th></th>\n",
       "      <th>label</th>\n",
       "      <th>text</th>\n",
       "    </tr>\n",
       "  </thead>\n",
       "  <tbody>\n",
       "    <tr>\n",
       "      <th>0</th>\n",
       "      <td>MajorClaim</td>\n",
       "      <td>we should attach more importance to cooperatio...</td>\n",
       "    </tr>\n",
       "    <tr>\n",
       "      <th>1</th>\n",
       "      <td>Premise</td>\n",
       "      <td>Take Olympic games which is a form of competit...</td>\n",
       "    </tr>\n",
       "    <tr>\n",
       "      <th>2</th>\n",
       "      <td>Premise</td>\n",
       "      <td>The high technology and new ideas applied into...</td>\n",
       "    </tr>\n",
       "    <tr>\n",
       "      <th>3</th>\n",
       "      <td>Premise</td>\n",
       "      <td>pollutions are not just caused by the burning ...</td>\n",
       "    </tr>\n",
       "    <tr>\n",
       "      <th>4</th>\n",
       "      <td>Premise</td>\n",
       "      <td>the improvements of work efficiency also attri...</td>\n",
       "    </tr>\n",
       "  </tbody>\n",
       "</table>\n",
       "</div>"
      ],
      "text/plain": [
       "        label                                               text\n",
       "0  MajorClaim  we should attach more importance to cooperatio...\n",
       "1     Premise  Take Olympic games which is a form of competit...\n",
       "2     Premise  The high technology and new ideas applied into...\n",
       "3     Premise  pollutions are not just caused by the burning ...\n",
       "4     Premise  the improvements of work efficiency also attri..."
      ]
     },
     "execution_count": 62,
     "metadata": {},
     "output_type": "execute_result"
    }
   ],
   "source": [
    "df.head()"
   ]
  },
  {
   "cell_type": "code",
   "execution_count": 63,
   "id": "8518d70d",
   "metadata": {},
   "outputs": [
    {
     "data": {
      "text/html": [
       "<div>\n",
       "<style scoped>\n",
       "    .dataframe tbody tr th:only-of-type {\n",
       "        vertical-align: middle;\n",
       "    }\n",
       "\n",
       "    .dataframe tbody tr th {\n",
       "        vertical-align: top;\n",
       "    }\n",
       "\n",
       "    .dataframe thead th {\n",
       "        text-align: right;\n",
       "    }\n",
       "</style>\n",
       "<table border=\"1\" class=\"dataframe\">\n",
       "  <thead>\n",
       "    <tr style=\"text-align: right;\">\n",
       "      <th></th>\n",
       "      <th>label</th>\n",
       "      <th>text</th>\n",
       "    </tr>\n",
       "  </thead>\n",
       "  <tbody>\n",
       "    <tr>\n",
       "      <th>6084</th>\n",
       "      <td>MajorClaim</td>\n",
       "      <td>addressing pollution and traffic issues only b...</td>\n",
       "    </tr>\n",
       "    <tr>\n",
       "      <th>6085</th>\n",
       "      <td>Premise</td>\n",
       "      <td>whether it can work out for alleviating traffi...</td>\n",
       "    </tr>\n",
       "    <tr>\n",
       "      <th>6086</th>\n",
       "      <td>Premise</td>\n",
       "      <td>price control institution has been used in ple...</td>\n",
       "    </tr>\n",
       "    <tr>\n",
       "      <th>6087</th>\n",
       "      <td>Claim</td>\n",
       "      <td>it seems not easy to increase petrol price ins...</td>\n",
       "    </tr>\n",
       "    <tr>\n",
       "      <th>6088</th>\n",
       "      <td>Premise</td>\n",
       "      <td>governments have a macro-economic perspective ...</td>\n",
       "    </tr>\n",
       "  </tbody>\n",
       "</table>\n",
       "</div>"
      ],
      "text/plain": [
       "           label                                               text\n",
       "6084  MajorClaim  addressing pollution and traffic issues only b...\n",
       "6085     Premise  whether it can work out for alleviating traffi...\n",
       "6086     Premise  price control institution has been used in ple...\n",
       "6087       Claim  it seems not easy to increase petrol price ins...\n",
       "6088     Premise  governments have a macro-economic perspective ..."
      ]
     },
     "execution_count": 63,
     "metadata": {},
     "output_type": "execute_result"
    }
   ],
   "source": [
    "df.tail()"
   ]
  },
  {
   "cell_type": "markdown",
   "id": "abc56923",
   "metadata": {},
   "source": [
    "### Count of 'Premise' label :"
   ]
  },
  {
   "cell_type": "code",
   "execution_count": 64,
   "id": "b86af492",
   "metadata": {},
   "outputs": [
    {
     "data": {
      "text/plain": [
       "3832"
      ]
     },
     "execution_count": 64,
     "metadata": {},
     "output_type": "execute_result"
    }
   ],
   "source": [
    "df[\"label\"].value_counts()[\"Premise\"]"
   ]
  },
  {
   "cell_type": "code",
   "execution_count": 65,
   "id": "dd8d8f7b",
   "metadata": {},
   "outputs": [
    {
     "name": "stderr",
     "output_type": "stream",
     "text": [
      "[nltk_data] Downloading package punkt to\n",
      "[nltk_data]     C:\\Users\\prabh\\AppData\\Roaming\\nltk_data...\n",
      "[nltk_data]   Package punkt is already up-to-date!\n"
     ]
    },
    {
     "data": {
      "text/plain": [
       "True"
      ]
     },
     "execution_count": 65,
     "metadata": {},
     "output_type": "execute_result"
    }
   ],
   "source": [
    "nltk.download('punkt')"
   ]
  },
  {
   "cell_type": "markdown",
   "id": "f73d4353",
   "metadata": {},
   "source": [
    "###  Maximum number of character level tokens in a document in raw 'text' column"
   ]
  },
  {
   "cell_type": "code",
   "execution_count": 66,
   "id": "205cf4ab",
   "metadata": {},
   "outputs": [
    {
     "name": "stdout",
     "output_type": "stream",
     "text": [
      "Maximum number of character level tokens in a document is: 344\n"
     ]
    }
   ],
   "source": [
    "# Function to tokenize text at the character level\n",
    "def charc_tokenize(text):\n",
    "    return list(text)\n",
    "\n",
    "# Apply the tokenizer to each document and calculate the length of the token list\n",
    "df['charc_token_count'] = df['text'].apply(lambda x: len(charc_tokenize(x)))\n",
    "\n",
    "# Find the maximum number of character-level tokens in the 'text' column\n",
    "maxim_char_tokens = df['charc_token_count'].max()\n",
    "\n",
    "print(f\"Maximum number of character level tokens in a document is: {maxim_char_tokens}\")"
   ]
  },
  {
   "cell_type": "markdown",
   "id": "3ebe1b90",
   "metadata": {},
   "source": [
    "### Maximum number of word level tokens in a document in raw 'text' columns"
   ]
  },
  {
   "cell_type": "code",
   "execution_count": 67,
   "id": "1112ab6f",
   "metadata": {},
   "outputs": [
    {
     "name": "stdout",
     "output_type": "stream",
     "text": [
      "The maximum number of word-level tokens in a document is: 67\n"
     ]
    }
   ],
   "source": [
    "def word_tokenize_text(text):\n",
    "    # Replace this with your actual tokenization logic\n",
    "    # (e.g., using NLTK or a custom tokenizer)\n",
    "    return text.split()  # Simple split for demonstration\n",
    "\n",
    "# Apply tokenization and calculate word count\n",
    "df['word_token_count'] = df['text'].apply(lambda x: len(word_tokenize_text(x)))\n",
    "\n",
    "# Find and print the maximum number of word-level tokens\n",
    "max_word_tokens = df['word_token_count'].max()\n",
    "print(f\"The maximum number of word-level tokens in a document is: {max_word_tokens}\")"
   ]
  },
  {
   "cell_type": "markdown",
   "id": "63cb5ed2",
   "metadata": {},
   "source": [
    "## Applying Text cleaning\n",
    "### Steps to follow :\n",
    " - Convert to lower\n",
    " - word tokenize\n",
    " - stop word removal\n",
    " - lemmatization"
   ]
  },
  {
   "cell_type": "code",
   "execution_count": 68,
   "id": "bc6e9491",
   "metadata": {},
   "outputs": [],
   "source": [
    "def clean(doc): \n",
    "    # doc is a string of text\n",
    "    \n",
    "    # Let's define a regex to match special characters and digits\n",
    "    regex = \"[^a-zA-Z.]\"\n",
    "    doc = re.sub(regex, \" \", doc)\n",
    "\n",
    "    # Convert to lowercase\n",
    "    doc = doc.lower()\n",
    "        \n",
    "    # Tokenization\n",
    "    tokens = nltk.word_tokenize(doc)\n",
    "\n",
    "    # Stop word removal\n",
    "    stop_words = set(stopwords.words('english'))\n",
    "    filtered_tokens = [word for word in tokens if word not in stop_words]\n",
    "\n",
    "    # Lemmatize\n",
    "    lemmatizer = WordNetLemmatizer()\n",
    "    lemmatized_tokens = [lemmatizer.lemmatize(token) for token in filtered_tokens]\n",
    "    \n",
    "    # Join and return\n",
    "    return \" \".join(lemmatized_tokens)"
   ]
  },
  {
   "cell_type": "code",
   "execution_count": 69,
   "id": "08bd30b3",
   "metadata": {},
   "outputs": [
    {
     "data": {
      "text/html": [
       "<div>\n",
       "<style scoped>\n",
       "    .dataframe tbody tr th:only-of-type {\n",
       "        vertical-align: middle;\n",
       "    }\n",
       "\n",
       "    .dataframe tbody tr th {\n",
       "        vertical-align: top;\n",
       "    }\n",
       "\n",
       "    .dataframe thead th {\n",
       "        text-align: right;\n",
       "    }\n",
       "</style>\n",
       "<table border=\"1\" class=\"dataframe\">\n",
       "  <thead>\n",
       "    <tr style=\"text-align: right;\">\n",
       "      <th></th>\n",
       "      <th>label</th>\n",
       "      <th>text</th>\n",
       "      <th>charc_token_count</th>\n",
       "      <th>word_token_count</th>\n",
       "      <th>clean_text</th>\n",
       "    </tr>\n",
       "  </thead>\n",
       "  <tbody>\n",
       "    <tr>\n",
       "      <th>0</th>\n",
       "      <td>MajorClaim</td>\n",
       "      <td>we should attach more importance to cooperatio...</td>\n",
       "      <td>72</td>\n",
       "      <td>10</td>\n",
       "      <td>attach importance cooperation primary education</td>\n",
       "    </tr>\n",
       "    <tr>\n",
       "      <th>1</th>\n",
       "      <td>Premise</td>\n",
       "      <td>Take Olympic games which is a form of competit...</td>\n",
       "      <td>297</td>\n",
       "      <td>58</td>\n",
       "      <td>take olympic game form competition instance ha...</td>\n",
       "    </tr>\n",
       "    <tr>\n",
       "      <th>2</th>\n",
       "      <td>Premise</td>\n",
       "      <td>The high technology and new ideas applied into...</td>\n",
       "      <td>154</td>\n",
       "      <td>26</td>\n",
       "      <td>high technology new idea applied practice may ...</td>\n",
       "    </tr>\n",
       "    <tr>\n",
       "      <th>3</th>\n",
       "      <td>Premise</td>\n",
       "      <td>pollutions are not just caused by the burning ...</td>\n",
       "      <td>137</td>\n",
       "      <td>20</td>\n",
       "      <td>pollution caused burning oil chemical pollutan...</td>\n",
       "    </tr>\n",
       "    <tr>\n",
       "      <th>4</th>\n",
       "      <td>Premise</td>\n",
       "      <td>the improvements of work efficiency also attri...</td>\n",
       "      <td>127</td>\n",
       "      <td>19</td>\n",
       "      <td>improvement work efficiency also attribute spe...</td>\n",
       "    </tr>\n",
       "  </tbody>\n",
       "</table>\n",
       "</div>"
      ],
      "text/plain": [
       "        label                                               text  \\\n",
       "0  MajorClaim  we should attach more importance to cooperatio...   \n",
       "1     Premise  Take Olympic games which is a form of competit...   \n",
       "2     Premise  The high technology and new ideas applied into...   \n",
       "3     Premise  pollutions are not just caused by the burning ...   \n",
       "4     Premise  the improvements of work efficiency also attri...   \n",
       "\n",
       "   charc_token_count  word_token_count  \\\n",
       "0                 72                10   \n",
       "1                297                58   \n",
       "2                154                26   \n",
       "3                137                20   \n",
       "4                127                19   \n",
       "\n",
       "                                          clean_text  \n",
       "0    attach importance cooperation primary education  \n",
       "1  take olympic game form competition instance ha...  \n",
       "2  high technology new idea applied practice may ...  \n",
       "3  pollution caused burning oil chemical pollutan...  \n",
       "4  improvement work efficiency also attribute spe...  "
      ]
     },
     "execution_count": 69,
     "metadata": {},
     "output_type": "execute_result"
    }
   ],
   "source": [
    "df['clean_text'] = df['text'].apply(lambda x : clean(x))\n",
    "\n",
    "df.head()"
   ]
  },
  {
   "cell_type": "markdown",
   "id": "6c4ffe87",
   "metadata": {},
   "source": [
    "### After applying text cleaning (i.e. text pre-processing as mentioned below), what is the maximum number of word level tokens in 'clean_text' column?"
   ]
  },
  {
   "cell_type": "code",
   "execution_count": 70,
   "id": "690b9a83",
   "metadata": {},
   "outputs": [
    {
     "name": "stdout",
     "output_type": "stream",
     "text": [
      "The maximum number of word-level tokens in a document is: 31\n"
     ]
    }
   ],
   "source": [
    "df['clean_txt_wrd_tkn'] = df['clean_text'].apply(lambda x: len(word_tokenize_text(x)))\n",
    "\n",
    "max_clean_txt_wrd_tkn = df['clean_txt_wrd_tkn'].max()\n",
    "\n",
    "print(f\"The maximum number of word-level tokens in a document is: {max_clean_txt_wrd_tkn}\")"
   ]
  },
  {
   "cell_type": "code",
   "execution_count": 71,
   "id": "f2122067",
   "metadata": {},
   "outputs": [
    {
     "data": {
      "text/html": [
       "<div>\n",
       "<style scoped>\n",
       "    .dataframe tbody tr th:only-of-type {\n",
       "        vertical-align: middle;\n",
       "    }\n",
       "\n",
       "    .dataframe tbody tr th {\n",
       "        vertical-align: top;\n",
       "    }\n",
       "\n",
       "    .dataframe thead th {\n",
       "        text-align: right;\n",
       "    }\n",
       "</style>\n",
       "<table border=\"1\" class=\"dataframe\">\n",
       "  <thead>\n",
       "    <tr style=\"text-align: right;\">\n",
       "      <th></th>\n",
       "      <th>label</th>\n",
       "      <th>text</th>\n",
       "      <th>charc_token_count</th>\n",
       "      <th>word_token_count</th>\n",
       "      <th>clean_text</th>\n",
       "      <th>clean_txt_wrd_tkn</th>\n",
       "    </tr>\n",
       "  </thead>\n",
       "  <tbody>\n",
       "    <tr>\n",
       "      <th>0</th>\n",
       "      <td>MajorClaim</td>\n",
       "      <td>we should attach more importance to cooperatio...</td>\n",
       "      <td>72</td>\n",
       "      <td>10</td>\n",
       "      <td>attach importance cooperation primary education</td>\n",
       "      <td>5</td>\n",
       "    </tr>\n",
       "    <tr>\n",
       "      <th>1</th>\n",
       "      <td>Premise</td>\n",
       "      <td>Take Olympic games which is a form of competit...</td>\n",
       "      <td>297</td>\n",
       "      <td>58</td>\n",
       "      <td>take olympic game form competition instance ha...</td>\n",
       "      <td>25</td>\n",
       "    </tr>\n",
       "    <tr>\n",
       "      <th>2</th>\n",
       "      <td>Premise</td>\n",
       "      <td>The high technology and new ideas applied into...</td>\n",
       "      <td>154</td>\n",
       "      <td>26</td>\n",
       "      <td>high technology new idea applied practice may ...</td>\n",
       "      <td>15</td>\n",
       "    </tr>\n",
       "    <tr>\n",
       "      <th>3</th>\n",
       "      <td>Premise</td>\n",
       "      <td>pollutions are not just caused by the burning ...</td>\n",
       "      <td>137</td>\n",
       "      <td>20</td>\n",
       "      <td>pollution caused burning oil chemical pollutan...</td>\n",
       "      <td>13</td>\n",
       "    </tr>\n",
       "    <tr>\n",
       "      <th>4</th>\n",
       "      <td>Premise</td>\n",
       "      <td>the improvements of work efficiency also attri...</td>\n",
       "      <td>127</td>\n",
       "      <td>19</td>\n",
       "      <td>improvement work efficiency also attribute spe...</td>\n",
       "      <td>13</td>\n",
       "    </tr>\n",
       "  </tbody>\n",
       "</table>\n",
       "</div>"
      ],
      "text/plain": [
       "        label                                               text  \\\n",
       "0  MajorClaim  we should attach more importance to cooperatio...   \n",
       "1     Premise  Take Olympic games which is a form of competit...   \n",
       "2     Premise  The high technology and new ideas applied into...   \n",
       "3     Premise  pollutions are not just caused by the burning ...   \n",
       "4     Premise  the improvements of work efficiency also attri...   \n",
       "\n",
       "   charc_token_count  word_token_count  \\\n",
       "0                 72                10   \n",
       "1                297                58   \n",
       "2                154                26   \n",
       "3                137                20   \n",
       "4                127                19   \n",
       "\n",
       "                                          clean_text  clean_txt_wrd_tkn  \n",
       "0    attach importance cooperation primary education                  5  \n",
       "1  take olympic game form competition instance ha...                 25  \n",
       "2  high technology new idea applied practice may ...                 15  \n",
       "3  pollution caused burning oil chemical pollutan...                 13  \n",
       "4  improvement work efficiency also attribute spe...                 13  "
      ]
     },
     "execution_count": 71,
     "metadata": {},
     "output_type": "execute_result"
    }
   ],
   "source": [
    "df.head()"
   ]
  },
  {
   "cell_type": "code",
   "execution_count": 72,
   "id": "0da80b8f",
   "metadata": {},
   "outputs": [
    {
     "data": {
      "text/plain": [
       "'attach importance cooperation primary education'"
      ]
     },
     "execution_count": 72,
     "metadata": {},
     "output_type": "execute_result"
    }
   ],
   "source": [
    "df[\"clean_text\"][0]"
   ]
  },
  {
   "cell_type": "code",
   "execution_count": 73,
   "id": "27b7d512",
   "metadata": {},
   "outputs": [
    {
     "data": {
      "text/plain": [
       "5"
      ]
     },
     "execution_count": 73,
     "metadata": {},
     "output_type": "execute_result"
    }
   ],
   "source": [
    "df['clean_text'].apply(lambda x: len(word_tokenize_text(x)))[0]"
   ]
  },
  {
   "cell_type": "code",
   "execution_count": 74,
   "id": "629fb2c7",
   "metadata": {},
   "outputs": [
    {
     "name": "stdout",
     "output_type": "stream",
     "text": [
      "Requirement already satisfied: scikit-learn in c:\\users\\prabh\\anaconda3\\lib\\site-packages (1.5.1)Note: you may need to restart the kernel to use updated packages.\n",
      "Requirement already satisfied: scipy>=1.6.0 in c:\\users\\prabh\\anaconda3\\lib\\site-packages (from scikit-learn) (1.7.1)\n",
      "Requirement already satisfied: numpy>=1.19.5 in c:\\users\\prabh\\anaconda3\\lib\\site-packages (from scikit-learn) (1.20.3)\n",
      "Requirement already satisfied: joblib>=1.2.0 in c:\\users\\prabh\\anaconda3\\lib\\site-packages (from scikit-learn) (1.4.2)\n",
      "\n",
      "Requirement already satisfied: threadpoolctl>=3.1.0 in c:\\users\\prabh\\anaconda3\\lib\\site-packages (from scikit-learn) (3.5.0)\n"
     ]
    }
   ],
   "source": [
    "pip install --upgrade scikit-learn"
   ]
  },
  {
   "cell_type": "markdown",
   "id": "18ab657f",
   "metadata": {},
   "source": [
    "### Applying  Vectorization using Bag of Word Technique(with default parameters) on the raw text column:"
   ]
  },
  {
   "cell_type": "code",
   "execution_count": 75,
   "id": "cfb719fc",
   "metadata": {},
   "outputs": [
    {
     "name": "stdout",
     "output_type": "stream",
     "text": [
      "Shape of text_dtm (# of docs, # of unique vocabulary): (6089, 5973)\n",
      "Total number of unique words in the vocabulary (all n-grams): 5973\n",
      "Number of 1-gram vocabulary words: 5973\n",
      "Vocab: ['aaa', 'abandon', 'abbreviated', 'abbreviation', 'abetter', 'abiding', 'ability', 'able', 'abovementioned', 'abroad', 'absence', 'absent', 'absolutely', 'absolved', 'absorb', 'absorbed', 'absorbing', 'abstract', 'absurd', 'abundance', 'abundant', 'abuse', 'abusive', 'academic', 'academically', 'academy', 'accelarates', 'accelerate', 'accept', 'accepted', 'access', 'accessed', 'accessibility', 'accessible', 'accessing', 'accident', 'accidentally', 'acclaim', 'accommodating', 'accommodation', 'accompanied', 'accompany', 'accompanying', 'accomplish', 'accomplished', 'accomplishing', 'accomplishment', 'accordance', 'according', 'accordingly', 'account', 'accountable', 'accounting', 'accredited', 'accumulate', 'accumulated', 'accumulating', 'accumulation', 'accuracy', 'accurate', 'accusation', 'accuse', 'accused', 'accustomed', 'achieve', 'achieved', 'achievement', 'achieves', 'achieving', 'aching', 'acid', 'acing', 'acknowledge', 'acknowledged', 'acknowledgement', 'acquaint', 'acquaintance', 'acquaintant', 'acquainted', 'acquire', 'acquired', 'acquiring', 'acquisition', 'across', 'act', 'acted', 'acting', 'action', 'active', 'actively', 'activeness', 'activity', 'actor', 'actress', 'actual', 'actually', 'acumen', 'acute', 'ad', 'adapt', 'adaptability', 'adaptation', 'adapted', 'adapting', 'add', 'added', 'addict', 'addicted', 'addiction', 'addictive', 'adding', 'addition', 'additional', 'address', 'addressing', 'adequate', 'adequately', 'adipose', 'adjust', 'adjusting', 'administration', 'admire', 'admired', 'admirer', 'admission', 'admit', 'admitted', 'adolescence', 'adolescent', 'adopted', 'adult', 'adulterating', 'adulthood', 'advance', 'advanced', 'advancement', 'advancing', 'advantage', 'advantageous', 'advent', 'adventurousness', 'adverse', 'adversely', 'adversity', 'advertise', 'advertised', 'advertisement', 'advertiser', 'advertising', 'advice', 'advisable', 'advisor', 'advocate', 'advocated', 'advocating', 'aesthetic', 'affair', 'affect', 'affected', 'affecting', 'affluent', 'afford', 'affordability', 'affordable', 'afforded', 'aforementioned', 'afraid', 'africa', 'african', 'afternoon', 'afterward', 'afterwards', 'age', 'aged', 'agenda', 'aggravate', 'aggressive', 'agitate', 'ago', 'agree', 'agreed', 'agreement', 'agricultural', 'agriculture', 'ahead', 'aid', 'aided', 'aiding', 'ailment', 'aim', 'aimed', 'aiming', 'air', 'aircraft', 'airline', 'airport', 'albeit', 'albert', 'alcohol', 'aligned', 'alive', 'alledged', 'alleging', 'allergy', 'alleviate', 'alleviated', 'alleviating', 'alleviation', 'allocate', 'allocated', 'allocating', 'allocation', 'allotted', 'allow', 'allowed', 'allowing', 'allows', 'almost', 'alone', 'along', 'aloud', 'already', 'also', 'alter', 'alteration', 'alternative', 'alters', 'although', 'altogether', 'always', 'amazed', 'amazing', 'ambience', 'ambition', 'ambitious', 'ameliorating', 'amenity', 'america', 'american', 'amidst', 'amir', 'among', 'amongst', 'amount', 'ample', 'amuse', 'analogous', 'analyze', 'analyzing', 'anatomy', 'ancestor', 'anchor', 'ancient', 'angkowat', 'angle', 'angry', 'animal', 'animation', 'animlas', 'announced', 'announcement', 'annoyance', 'annoyed', 'annoying', 'annum', 'anomaly', 'anonymous', 'another', 'answer', 'answered', 'answering', 'antioxydant', 'antique', 'anxiety', 'anybody', 'anymore', 'anyone', 'anything', 'anytime', 'anyway', 'anywhere', 'apart', 'apartment', 'aplenty', 'apology', 'apparently', 'appeal', 'appealing', 'appear', 'appearance', 'appeared', 'appearing', 'appears', 'apperant', 'appetite', 'apple', 'appliance', 'applicable', 'applicant', 'application', 'applied', 'apply', 'applying', 'appointment', 'appreciate', 'appreciation', 'apprehensive', 'apprentice', 'approach', 'appropriate', 'approve', 'approved', 'approximately', 'apps', 'aptitude', 'aquatic', 'architecture', 'archuleta', 'arduous', 'area', 'argentina', 'argue', 'argument', 'arid', 'arise', 'arises', 'arm', 'armed', 'around', 'arrange', 'arranged', 'arrangement', 'arranging', 'arrival', 'arrogant', 'arson', 'art', 'artcrafts', 'article', 'artifact', 'artificial', 'artist', 'artistic', 'artwork', 'ascertain', 'ash', 'asia', 'asian', 'aside', 'asistans', 'asistant', 'ask', 'asked', 'asking', 'asleep', 'aspect', 'ass', 'assemble', 'assert', 'assessment', 'assign', 'assigned', 'assignment', 'assimilate', 'assimilated', 'assist', 'assistance', 'assistant', 'assisting', 'assit', 'associate', 'associated', 'association', 'assumed', 'assuming', 'assure', 'assured', 'asthma', 'astonishment', 'astoundingly', 'astray', 'astronaut', 'astronomy', 'asymmetry', 'ate', 'athlete', 'athletics', 'atmoshphere', 'atmosphere', 'atmospheric', 'atomic', 'attach', 'attachment', 'attack', 'attacked', 'attacted', 'attain', 'attained', 'attempt', 'attend', 'attendance', 'attended', 'attending', 'attention', 'attentive', 'attire', 'attitude', 'attract', 'attracted', 'attracting', 'attraction', 'attractive', 'attribute', 'attributed', 'audience', 'auditorium', 'augment', 'aural', 'australia', 'australian', 'authentic', 'authoritarian', 'authoritative', 'authority', 'autism', 'automatic', 'automatically', 'automation', 'automobile', 'availability', 'available', 'average', 'avoid', 'avoidable', 'avoided', 'avoiding', 'awarded', 'aware', 'awareness', 'away', 'awe', 'awesome', 'baboon', 'baby', 'bachelor', 'back', 'backed', 'backfire', 'background', 'backing', 'backpack', 'bacteria', 'bad', 'badly', 'bagger', 'balance', 'balanced', 'balancing', 'ball', 'ban', 'bangladeshi', 'bank', 'bankrupt', 'banned', 'banner', 'bar', 'bare', 'barely', 'barrier', 'base', 'baseball', 'based', 'basic', 'basically', 'basis', 'basketball', 'batch', 'battery', 'bay', 'bbc', 'beach', 'bean', 'bear', 'beat', 'beaten', 'beautiful', 'beautifying', 'beauty', 'became', 'become', 'becomes', 'becoming', 'beef', 'beeline', 'beethoven', 'began', 'begin', 'beginner', 'beginning', 'behave', 'behaved', 'behavior', 'behaviour', 'behind', 'beijing', 'being', 'belief', 'believe', 'believed', 'believing', 'belligerent', 'belong', 'belonging', 'belongs', 'beloved', 'belt', 'beneficed', 'beneficial', 'benefit', 'benefited', 'benefiting', 'berlin', 'beside', 'besides', 'best', 'better', 'bettering', 'beyond', 'bias', 'biased', 'bicycle', 'big', 'bigger', 'biggest', 'bike', 'biking', 'bill', 'billion', 'bio', 'biodiversity', 'biological', 'biology', 'biomechanical', 'biomedical', 'bird', 'birth', 'birthday', 'bit', 'bitter', 'black', 'blackboard', 'blame', 'blamed', 'blanket', 'blatantly', 'blended', 'blending', 'blessed', 'blessing', 'blind', 'blindly', 'block', 'blocking', 'blog', 'blood', 'bloody', 'blossmed', 'blossom', 'blue', 'boarder', 'boat', 'body', 'bolster', 'bombarded', 'bond', 'bonded', 'bone', 'book', 'bookstore', 'booming', 'boon', 'boost', 'boosted', 'boosting', 'border', 'bored', 'boring', 'born', 'borne', 'borough', 'bos', 'boss', 'bottom', 'bought', 'bound', 'boundary', 'bounded', 'box', 'boy', 'brain', 'brainstorming', 'brainwash', 'brake', 'branch', 'brand', 'bravery', 'brazil', 'breach', 'break', 'breakdown', 'breakfast', 'breaking', 'breakthrough', 'breath', 'breathe', 'breathing', 'breed', 'brick', 'bridge', 'bridging', 'brigade', 'bright', 'brighter', 'brilliant', 'bring', 'bringing', 'brings', 'brink', 'briskly', 'britain', 'british', 'broad', 'broadcast', 'broaden', 'broadened', 'broader', 'broadly', 'brochure', 'broke', 'broken', 'brother', 'brought', 'browse', 'browser', 'browsing', 'brunei', 'brutal', 'buddha', 'buddhism', 'buddhist', 'buddy', 'budget', 'build', 'building', 'built', 'bulb', 'bulk', 'bullet', 'bullock', 'bunch', 'burden', 'burdened', 'burgeoning', 'burglary', 'buried', 'burn', 'burned', 'burning', 'burring', 'burst', 'bursted', 'burstling', 'bus', 'busier', 'business', 'businessman', 'businessmen', 'busy', 'button', 'buy', 'buying', 'ca', 'cabbage', 'caf', 'cafe', 'cage', 'caged', 'cake', 'calculate', 'calculation', 'call', 'called', 'calling', 'calm', 'calmer', 'cambodia', 'came', 'camera', 'cameraman', 'camp', 'campaign', 'camping', 'campus', 'canada', 'canadian', 'cancelled', 'cancer', 'candidate', 'capability', 'capable', 'capablity', 'capacity', 'capital', 'capitalism', 'captivate', 'captivity', 'captured', 'car', 'carbon', 'card', 'cardiovascular', 'care', 'cared', 'career', 'careful', 'carefully', 'carelessly', 'caring', 'carried', 'carrier', 'carry', 'carrying', 'cart', 'carter', 'cartoon', 'case', 'casting', 'casual', 'cat', 'catalyze', 'catastrophic', 'catch', 'catching', 'category', 'cater', 'cattle', 'caught', 'cause', 'caused', 'causing', 'cautious', 'cctv', 'cctvs', 'ceasing', 'celebrate', 'celebrated', 'celebrity', 'cell', 'cellphone', 'cellular', 'censor', 'censored', 'censorship', 'cent', 'center', 'centered', 'centeries', 'centimeter', 'centre', 'century', 'ceo', 'certain', 'certainly', 'certificate', 'certification', 'chain', 'chained', 'chair', 'chalkboard', 'challenge', 'challenging', 'champion', 'championship', 'chance', 'chanda', 'change', 'changed', 'changing', 'channel', 'chaos', 'chaotic', 'character', 'characteristic', 'charge', 'charged', 'charging', 'charitable', 'charity', 'charm', 'chasing', 'chat', 'chatting', 'chauvinist', 'cheap', 'cheaper', 'cheaply', 'cheat', 'cheating', 'check', 'checkbook', 'checked', 'checking', 'cheer', 'cheered', 'cheerful', 'chemical', 'chemistry', 'cherish', 'cherry', 'chi', 'chiefly', 'child', 'childhood', 'childish', 'china', 'chinatown', 'chinese', 'chip', 'choice', 'cholesterol', 'choose', 'choosing', 'chopping', 'chore', 'chose', 'chosen', 'christmas', 'chronic', 'churn', 'cigarette', 'cinema', 'circulation', 'circumstance', 'circumstantially', 'citing', 'citizen', 'city', 'civil', 'civilian', 'civility', 'civilization', 'civilized', 'claim', 'claimed', 'clarify', 'class', 'classed', 'classic', 'classical', 'classified', 'classify', 'classmate', 'classroom', 'clause', 'clean', 'cleaning', 'cleanliness', 'clear', 'clearance', 'clearer', 'clearly', 'clerk', 'clever', 'click', 'client', 'climate', 'climatic', 'climb', 'climbing', 'clinically', 'clip', 'close', 'closed', 'closely', 'closeness', 'closer', 'clothes', 'clothing', 'club', 'clueless', 'cm', 'cnbc', 'co', 'coach', 'coaching', 'coal', 'coast', 'coca', 'codified', 'coexistence', 'coexistent', 'coffee', 'cohesion', 'cohesiveness', 'coin', 'cola', 'cold', 'coldly', 'collaborate', 'collaboration', 'collage', 'collar', 'colleague', 'collect', 'collected', 'collecting', 'collection', 'collector', 'college', 'collision', 'color', 'colorful', 'colossal', 'colourful', 'columbus', 'com', 'combat', 'combination', 'combine', 'come', 'comedy', 'comfort', 'comfortable', 'comfortably', 'comfot', 'coming', 'comity', 'command', 'commence', 'comment', 'commerce', 'commercial', 'commit', 'commitment', 'committed', 'committing', 'commodity', 'common', 'commonly', 'commuincating', 'commuincation', 'communal', 'communicate', 'communicated', 'communicating', 'communicatio', 'communication', 'communicational', 'community', 'commute', 'commuter', 'commuting', 'company', 'comparable', 'comparatively', 'compare', 'compared', 'comparing', 'comparison', 'compassion', 'compatibility', 'compatible', 'compelled', 'compensate', 'compete', 'competence', 'competency', 'competent', 'competently', 'competition', 'competitive', 'competitor', 'complain', 'complained', 'complaining', 'complaint', 'complement', 'complete', 'completely', 'completing', 'completion', 'complex', 'complexity', 'complicated', 'compliment', 'complimentary', 'complimented', 'component', 'compose', 'composing', 'compound', 'comprehend', 'comprehending', 'comprehensible', 'comprehension', 'comprehensive', 'comprehensively', 'compromise', 'compulsory', 'computer', 'computerized', 'comtemporary', 'con', 'concealed', 'concede', 'conceivable', 'conceive', 'concentrate', 'concentrating', 'concentration', 'concept', 'concern', 'concerned', 'concerning', 'concert', 'concludes', 'conclusion', 'concrete', 'concurrently', 'condemned', 'condition', 'conditioner', 'conduce', 'conducing', 'conduct', 'conducted', 'conducting', 'cone', 'conference', 'conferencing', 'confidence', 'confident', 'confidential', 'confidently', 'confine', 'confined', 'confirmed', 'conflict', 'conflicting', 'conform', 'confront', 'confronted', 'confuse', 'confused', 'confusing', 'confusion', 'congestion', 'congratulate', 'congregate', 'connect', 'connected', 'connecting', 'connection', 'conquer', 'conquered', 'conscience', 'conscientious', 'conscious', 'consecutively', 'conseilieurs', 'consensus', 'consent', 'consequence', 'consequential', 'consequently', 'conservation', 'conservative', 'conserve', 'conserved', 'consider', 'considerable', 'considerate', 'consideration', 'considered', 'considering', 'consistent', 'consistently', 'console', 'consoled', 'conspicuous', 'constant', 'constantly', 'constitute', 'constitutes', 'constitution', 'constrained', 'constrains', 'constraint', 'construct', 'constructing', 'construction', 'consular', 'consultation', 'consulting', 'consume', 'consumed', 'consumer', 'consuming', 'consumption', 'contact', 'contain', 'contains', 'contaminated', 'contamination', 'contemporarily', 'contemporary', 'contend', 'content', 'contest', 'continent', 'continue', 'continued', 'continues', 'continuing', 'continuingly', 'continuous', 'continuously', 'contracting', 'contrary', 'contrast', 'contribute', 'contributed', 'contributes', 'contributing', 'contribution', 'contributor', 'control', 'controlled', 'controlling', 'controversy', 'conundrum', 'convenience', 'convenient', 'conveniently', 'convention', 'conventional', 'convergence', 'conversation', 'conversative', 'converse', 'converting', 'convey', 'conveyance', 'conveying', 'convicted', 'convince', 'convinced', 'convincing', 'cook', 'cooker', 'cooking', 'cool', 'cooperate', 'cooperating', 'cooperation', 'cooperative', 'coordinated', 'coordination', 'cope', 'coral', 'core', 'corn', 'corner', 'corporate', 'corporation', 'corporational', 'correct', 'correctly', 'correlate', 'correspond', 'corresponding', 'corrupted', 'corrupting', 'cosmetic', 'cost', 'costly', 'costume', 'couch', 'cough', 'could', 'council', 'counseling', 'count', 'counterparty', 'countless', 'country', 'countryside', 'county', 'couple', 'coupled', 'courage', 'course', 'court', 'cousin', 'cover', 'coverage', 'covering', 'cow', 'craft', 'cram', 'crashed', 'craving', 'crazier', 'cream', 'creat', 'create', 'created', 'creates', 'creating', 'creation', 'creational', 'creative', 'creativity', 'creator', 'creature', 'credential', 'credit', 'crew', 'cricket', 'crime', 'crimea', 'criminal', 'crisis', 'criterion', 'critical', 'criticise', 'criticises', 'criticism', 'criticize', 'crocodile', 'crop', 'crowd', 'crowded', 'crowed', 'crucial', 'crude', 'crudity', 'cruel', 'cruelty', 'cry', 'cuisine', 'cult', 'cultivate', 'cultivating', 'cultivation', 'cultural', 'culturally', 'culture', 'cumbersome', 'cup', 'curb', 'curbed', 'cure', 'cured', 'curie', 'curiosity', 'curious', 'current', 'currently', 'curriculum', 'curtailing', 'custom', 'customer', 'cut', 'cute', 'cutting', 'cutures', 'cyber', 'cyberspace', 'cycle', 'cylinder', 'czech', 'da', 'dad', 'daily', 'dam', 'damage', 'damaged', 'damaging', 'dance', 'danced', 'dancer', 'dancing', 'danger', 'dangerous', 'dark', 'data', 'date', 'daughter', 'daunted', 'daunting', 'david', 'day', 'daylife', 'daze', 'dead', 'deadline', 'deal', 'dealing', 'death', 'debate', 'debating', 'debt', 'decade', 'deceived', 'decent', 'decently', 'decide', 'decided', 'decides', 'deciding', 'decipher', 'decision', 'decisive', 'declare', 'decline', 'declined', 'decrease', 'decreased', 'decreasing', 'dedicate', 'dedicated', 'dedication', 'deduction', 'deed', 'deep', 'deepen', 'deeper', 'deeply', 'defeat', 'defeated', 'defeating', 'defence', 'defend', 'defendant', 'defense', 'defenseless', 'deficiency', 'define', 'definitely', 'deforestation', 'degree', 'delay', 'delayering', 'delegating', 'delicious', 'delight', 'delinquency', 'deliver', 'deliverable', 'delivered', 'delivering', 'delivers', 'delivery', 'dell', 'demand', 'demanded', 'demerit', 'demines', 'democratic', 'demonstrate', 'demonstrated', 'demonstrates', 'demonstration', 'denied', 'dentist', 'deny', 'department', 'depend', 'dependable', 'dependence', 'dependent', 'depending', 'depends', 'depleted', 'depleting', 'depletion', 'deposit', 'depress', 'depressed', 'depression', 'deprive', 'deprived', 'depth', 'derives', 'derogatory', 'describe', 'description', 'deseases', 'desert', 'deserve', 'deserves', 'deserving', 'design', 'designed', 'designer', 'designing', 'desirable', 'desire', 'desired', 'desk', 'desperate', 'despicable', 'despite', 'destabilize', 'destination', 'destined', 'destiny', 'destroy', 'destroyed', 'destroyer', 'destroying', 'destroys', 'destruct', 'destruction', 'destructive', 'desulfurize', 'detail', 'detailed', 'detaining', 'detect', 'detergent', 'deteriorate', 'deteriorating', 'determinant', 'determination', 'determine', 'determined', 'determines', 'detriment', 'detrimental', 'devastate', 'devastated', 'devastating', 'develop', 'develope', 'developed', 'developing', 'development', 'develops', 'deviate', 'device', 'devised', 'devising', 'devoiding', 'devote', 'devoted', 'dextrous', 'diabetes', 'dialed', 'diamond', 'die', 'died', 'diesel', 'diet', 'differ', 'difference', 'different', 'differentiate', 'differently', 'difficult', 'difficulty', 'digest', 'digital', 'dignity', 'digress', 'dilemma', 'diligent', 'diligently', 'dim', 'dimensional', 'diminishing', 'dinner', 'dioxid', 'dioxide', 'dire', 'direct', 'direction', 'directly', 'director', 'disability', 'disabled', 'disadvantage', 'disadvantaged', 'disagree', 'disagreed', 'disagreement', 'disappear', 'disappearance', 'disappeared', 'disappoint', 'disappointed', 'disappointing', 'disappointment', 'disaster', 'disavow', 'disbelief', 'disc', 'discarded', 'discern', 'discharge', 'discharging', 'discipline', 'disclose', 'disclosing', 'discomfort', 'discontented', 'discount', 'discourage', 'discouraged', 'discover', 'discovered', 'discovering', 'discovery', 'discretion', 'discrimination', 'discus', 'discussed', 'discussing', 'discussion', 'disease', 'disgrace', 'disgusted', 'disgusting', 'dish', 'disheartened', 'disinform', 'dismantle', 'disney', 'disorder', 'disorientated', 'dispensable', 'display', 'displayed', 'displaying', 'disposable', 'dispose', 'dispute', 'disregard', 'disregarded', 'disregarding', 'disrespectable', 'disrupt', 'disrupted', 'dissatisfaction', 'dissatisfied', 'disseminating', 'dissipation', 'dissolve', 'distance', 'distant', 'distinct', 'distinction', 'distinctive', 'distinguish', 'distinguished', 'distinguishes', 'distinguishing', 'distorted', 'distract', 'distracted', 'distraction', 'distribute', 'distributed', 'distributing', 'district', 'disturb', 'disturbed', 'disturbing', 'dive', 'diverse', 'diversion', 'diversity', 'divert', 'diverting', 'divide', 'divided', 'division', 'divorce', 'do', 'doctor', 'doctrine', 'document', 'documentary', 'dog', 'doings', 'dollar', 'domain', 'domestic', 'dominant', 'dominate', 'dominated', 'donate', 'donation', 'done', 'dong', 'donkey', 'door', 'dopamine', 'dorm', 'dormitory', 'doubt', 'dove', 'down', 'downfall', 'downside', 'draining', 'drama', 'dramatic', 'dramatically', 'dramaticly', 'drastically', 'draw', 'drawback', 'drawing', 'drawn', 'dream', 'dress', 'dressing', 'drift', 'drilling', 'drink', 'drinking', 'drive', 'driven', 'driver', 'driving', 'drone', 'drop', 'dropout', 'dropping', 'drought', 'drown', 'drug', 'drum', 'due', 'dug', 'dull', 'dullness', 'dumped', 'durability', 'duration', 'duty', 'dweller', 'dwelling', 'dwindle', 'dying', 'dynamic', 'dynamite', 'eager', 'earlier', 'early', 'earn', 'earned', 'earning', 'earnings', 'earth', 'earthquake', 'ease', 'easier', 'easiest', 'easily', 'easiness', 'easing', 'easy', 'eat', 'eater', 'eating', 'eb', 'eclipse', 'eco', 'ecological', 'ecology', 'economic', 'economical', 'economically', 'economics', 'economist', 'economy', 'ecosphere', 'ecosystem', 'ecotourism', 'edge', 'edged', 'edison', 'editor', 'educate', 'educated', 'educates', 'educating', 'educatio', 'education', 'educational', 'educator', 'effect', 'effected', 'effective', 'effectively', 'effectiveness', 'efficiency', 'efficient', 'efficiently', 'effort', 'eight', 'einstein', 'either', 'elaborate', 'elaborately', 'elaboration', 'elder', 'elderly', 'electric', 'electrical', 'electricity', 'electronic', 'electronics', 'elegant', 'element', 'elementary', 'elevate', 'elevated', 'elevator', 'eleven', 'elicit', 'eligible', 'eliminate', 'eliminated', 'eliminating', 'elimination', 'elli', 'else', 'elsewhere', 'email', 'emanates', 'emancipate', 'embarrassed', 'emerge', 'emergence', 'emergency', 'eminent', 'emission', 'emit', 'emitted', 'emoticon', 'emotion', 'emotional', 'emotionally', 'empathy', 'emphasis', 'emphasise', 'emphasize', 'employ', 'employed', 'employee', 'employer', 'employment', 'empowered', 'empowerment', 'empt', 'empty', 'enable', 'enabled', 'enables', 'enclosure', 'encompassed', 'encounter', 'encountering', 'encourage', 'encouraged', 'encouragement', 'encourages', 'encouraging', 'encroachment', 'end', 'endangered', 'endangering', 'endangers', 'endeavor', 'endeavour', 'ended', 'ending', 'endless', 'endow', 'endurance', 'enduring', 'energetic', 'energy', 'enforce', 'enforced', 'enforcement', 'enforcing', 'enfranchised', 'engage', 'engaged', 'engagement', 'engaging', 'engine', 'engineer', 'engineering', 'english', 'enhance', 'enhanced', 'enhancement', 'enhances', 'enhancing', 'enjoy', 'enjoyable', 'enjoyably', 'enjoyed', 'enjoying', 'enjoyment', 'enlarged', 'enlightened', 'enlightening', 'enlightenment', 'enormous', 'enormously', 'enough', 'enrich', 'enriched', 'enriches', 'enriching', 'enroll', 'enrollment', 'enrolment', 'ensemble', 'ensue', 'ensure', 'ensured', 'ensuring', 'enter', 'entering', 'enterprise', 'enterprising', 'entertain', 'entertained', 'entertaining', 'entertainmening', 'entertainment', 'enthuasism', 'enthusiasm', 'enthusiastic', 'entire', 'entirely', 'entrance', 'entrepreneur', 'entwined', 'environmen', 'environment', 'environmental', 'environmentalist', 'environmentally', 'epidemic', 'episode', 'equal', 'equality', 'equalize', 'equally', 'equator', 'equestrian', 'equilibrium', 'equip', 'equipment', 'equipped', 'equipping', 'equivalent', 'era', 'eradicate', 'erased', 'eric', 'erode', 'eroding', 'eroticism', 'error', 'escape', 'escaping', 'especially', 'essay', 'essence', 'essential', 'essentially', 'establish', 'established', 'establishes', 'establishing', 'establishment', 'estate', 'esteem', 'estimate', 'estimated', 'estimation', 'esy', 'etc', 'ethic', 'ethically', 'ethnic', 'etiquette', 'etv', 'eulogized', 'euopren', 'europe', 'european', 'evaluate', 'evaluated', 'evaluating', 'evaluation', 'even', 'event', 'eventually', 'ever', 'every', 'everybody', 'everyday', 'everyone', 'everything', 'everythings', 'everywhere', 'everywhre', 'evidence', 'evident', 'evolution', 'evolved', 'exacerbate', 'exact', 'exactly', 'exaggerate', 'exaggerated', 'exaggeration', 'exam', 'examination', 'examine', 'example', 'exceed', 'exceeds', 'excel', 'excellence', 'excellent', 'except', 'exceptional', 'excess', 'excessive', 'excessively', 'exchange', 'excited', 'excitement', 'exciting', 'excluded', 'exclusive', 'excuse', 'excused', 'executed', 'execution', 'executive', 'exercise', 'exercising', 'exerice', 'exert', 'exerting', 'exhaled', 'exhaust', 'exhausted', 'exhausting', 'exhibit', 'exhibition', 'exist', 'existed', 'existence', 'existing', 'exists', 'exited', 'exotic', 'expand', 'expanded', 'expanding', 'expands', 'expansion', 'expect', 'expectancy', 'expectation', 'expected', 'expects', 'expedites', 'expels', 'expenditure', 'expense', 'expensive', 'expensiveness', 'experience', 'experienced', 'experiencing', 'experiment', 'experimental', 'expert', 'expertise', 'expirience', 'explain', 'explaining', 'explains', 'explanation', 'exploit', 'exploitation', 'exploited', 'exploiting', 'exploration', 'explore', 'exploring', 'explosion', 'expo', 'export', 'exporter', 'expose', 'exposed', 'exposing', 'exposure', 'exposured', 'express', 'expressed', 'expressing', 'expression', 'extend', 'extended', 'extending', 'extensive', 'extensively', 'extent', 'external', 'extinct', 'extinction', 'extra', 'extract', 'extraction', 'extracurricular', 'extraneous', 'extraordinarily', 'extraordinary', 'extreme', 'extremely', 'eye', 'eyesight', 'fabricated', 'fabulous', 'facade', 'face', 'facebook', 'facebooks', 'faced', 'facial', 'facilitate', 'facilitates', 'facilitating', 'facility', 'facing', 'fact', 'factor', 'factory', 'fad', 'fail', 'failed', 'failing', 'failure', 'fair', 'fairly', 'fairness', 'fairy', 'fake', 'fall', 'falling', 'false', 'falseful', 'fame', 'familiar', 'familiarity', 'familiarize', 'family', 'famine', 'famous', 'fan', 'fancy', 'fantastic', 'far', 'faraway', 'fare', 'farm', 'farmer', 'farming', 'farmland', 'fascinating', 'fascination', 'fashion', 'fashioned', 'fast', 'faster', 'fat', 'fatal', 'fatality', 'fate', 'father', 'fatherhood', 'fatherood', 'fatigue', 'fault', 'fauna', 'favor', 'favorable', 'favorably', 'favorite', 'favour', 'favourite', 'fawn', 'fear', 'fearless', 'feasible', 'feature', 'fed', 'fee', 'feed', 'feedback', 'feeding', 'feel', 'feeling', 'fell', 'felling', 'fellow', 'fellowman', 'fellowship', 'felony', 'felt', 'female', 'fenced', 'fencing', 'ferry', 'fertilized', 'fertilizer', 'festival', 'fewer', 'fiance', 'fiction', 'field', 'fierce', 'fifa', 'fifty', 'fight', 'fighting', 'figure', 'figured', 'filed', 'fill', 'filled', 'film', 'filter', 'filtering', 'final', 'finally', 'finance', 'financial', 'financially', 'financing', 'find', 'finding', 'fine', 'finish', 'finished', 'finishing', 'finland', 'fire', 'firearm', 'fired', 'firework', 'firm', 'first', 'fish', 'fisherman', 'fission', 'fit', 'fitting', 'five', 'fix', 'fixed', 'fixer', 'flag', 'flamable', 'flash', 'flat', 'flesh', 'flexibility', 'flexible', 'flight', 'flocking', 'flood', 'flooding', 'flora', 'flourish', 'flourishing', 'flow', 'flowchart', 'flower', 'flowing', 'flu', 'fluctuated', 'fluency', 'fluently', 'fluid', 'fly', 'flying', 'focus', 'focused', 'focusing', 'fog', 'folk', 'follow', 'followed', 'following', 'follows', 'fond', 'food', 'foot', 'football', 'footballworld', 'forbidden', 'force', 'forced', 'forcedly', 'forcibly', 'forcing', 'forecast', 'foreign', 'foreigner', 'foremost', 'foreseeable', 'forest', 'forever', 'forget', 'forgettable', 'forgive', 'forgot', 'forgotten', 'form', 'formal', 'formality', 'formed', 'former', 'forming', 'formula', 'forth', 'fortunate', 'fortune', 'forty', 'forum', 'forward', 'fossil', 'foster', 'found', 'foundation', 'founder', 'four', 'foxconn', 'fragile', 'frame', 'frank', 'fraternal', 'fraud', 'fraudulent', 'free', 'freedom', 'freeing', 'freely', 'french', 'frenetic', 'frequency', 'frequent', 'frequently', 'fresh', 'friday', 'fried', 'friend', 'friendly', 'friendship', 'frightening', 'front', 'frown', 'fruit', 'fruitful', 'frustrate', 'frustrated', 'frustrates', 'frustrating', 'frustration', 'fuel', 'fulcrum', 'fulfil', 'fulfill', 'fulfilled', 'fulfilling', 'fulfillment', 'fulfills', 'full', 'fully', 'fume', 'fun', 'function', 'functionality', 'fund', 'fundamental', 'fundamentally', 'funded', 'fundermentaly', 'funding', 'funnier', 'funny', 'furnish', 'furthermore', 'fusion', 'future', 'gadget', 'gain', 'gained', 'gaining', 'gallery', 'gam', 'game', 'gamer', 'gaming', 'gandhi', 'gang', 'gap', 'garbage', 'garther', 'gas', 'gasoline', 'gate', 'gather', 'gathering', 'gave', 'geek', 'gel', 'gender', 'gene', 'general', 'generally', 'generate', 'generated', 'generating', 'generation', 'generous', 'genetic', 'genetically', 'genius', 'genre', 'genuine', 'geographical', 'geography', 'georgia', 'germ', 'german', 'germany', 'get', 'getting', 'ghg', 'gift', 'gigantic', 'giraffe', 'girl', 'girlfriend', 'give', 'given', 'giving', 'glacier', 'glamorous', 'glamour', 'global', 'globalisation', 'globalization', 'globalized', 'globe', 'gloomy', 'go', 'goal', 'god', 'going', 'gold', 'gone', 'good', 'google', 'gorgeous', 'gorvernment', 'gossip', 'got', 'gotten', 'goverment', 'governmen', 'government', 'governmental', 'grab', 'gradate', 'grade', 'grading', 'gradual', 'gradually', 'graduate', 'graduated', 'graduating', 'graduation', 'grammar', 'grandparent', 'grant', 'granted', 'graph', 'grasp', 'grasped', 'grasping', 'grate', 'grateful', 'gratifying', 'grating', 'gravity', 'great', 'greater', 'greatest', 'greatly', 'greed', 'greek', 'green', 'greenhouse', 'greeted', 'grew', 'grievously', 'ground', 'groundless', 'group', 'grow', 'growing', 'grown', 'grows', 'growth', 'guarantee', 'guaranteed', 'guardian', 'guess', 'guidance', 'guide', 'guided', 'guideline', 'guilt', 'guilty', 'guitar', 'gujarati', 'gulf', 'gun', 'gutter', 'guy', 'gym', 'ha', 'habit', 'habitant', 'habitat', 'hailed', 'hair', 'half', 'halo', 'halted', 'hand', 'handcraft', 'handicraft', 'handle', 'handled', 'handling', 'handmade', 'handwriting', 'hang', 'hanging', 'happen', 'happened', 'happening', 'happens', 'happier', 'happiest', 'happiness', 'happing', 'happy', 'hard', 'hardcore', 'harder', 'hardly', 'hardship', 'hardworking', 'harm', 'harmed', 'harmful', 'harmonial', 'harmonious', 'harmony', 'harsh', 'harvest', 'hassle', 'hastily', 'hasty', 'hat', 'hate', 'hateful', 'hatred', 'have', 'hazard', 'hazardous', 'head', 'headache', 'heading', 'heal', 'health', 'healthcare', 'healthfulness', 'healthier', 'healthiness', 'healthy', 'healty', 'hear', 'heard', 'hearing', 'heart', 'heat', 'heating', 'heavier', 'heavily', 'heavy', 'heel', 'heinous', 'held', 'help', 'helped', 'helpful', 'helping', 'helpmate', 'hence', 'heritage', 'hero', 'hesitate', 'hesitation', 'hidden', 'hide', 'hiding', 'high', 'higher', 'highest', 'highlight', 'highlighted', 'highly', 'highway', 'hiking', 'hinder', 'hindrance', 'hire', 'hired', 'hiring', 'historic', 'historical', 'history', 'hit', 'hitting', 'hiv', 'ho', 'hobby', 'hold', 'holding', 'holiday', 'hollywood', 'home', 'homeland', 'homelessness', 'hometown', 'homework', 'hone', 'honest', 'honestly', 'honesty', 'honored', 'hooligan', 'hoot', 'hope', 'hoping', 'horizon', 'hormone', 'horrendous', 'horror', 'horse', 'hospital', 'hospitality', 'host', 'hostel', 'hot', 'hotel', 'hotter', 'hour', 'house', 'household', 'housekeeper', 'housewife', 'housework', 'housing', 'however', 'hu', 'huge', 'human', 'humane', 'humaneness', 'humanity', 'humankind', 'humorous', 'hundred', 'hunger', 'hunt', 'hunter', 'hunting', 'hurdle', 'hurried', 'hurry', 'hurt', 'hurtful', 'hurting', 'husband', 'hydro', 'hydroelectricity', 'hygienic', 'ibt', 'ice', 'icici', 'idea', 'ideal', 'identification', 'identified', 'identify', 'identifying', 'identity', 'ideology', 'idiom', 'idiot', 'idol', 'idolize', 'ignorance', 'ignore', 'ignored', 'ignoring', 'ill', 'illegal', 'illegally', 'illiteracy', 'illness', 'illogical', 'illusion', 'illustrate', 'illustrates', 'illustration', 'image', 'imagination', 'imagine', 'imagined', 'imbalance', 'imitate', 'imitated', 'imitating', 'immature', 'immaturity', 'immediate', 'immediately', 'immense', 'immerse', 'immigrant', 'immigrated', 'immigration', 'imminent', 'immodest', 'immoral', 'impact', 'impacted', 'impacting', 'impair', 'impart', 'imparted', 'impatient', 'impeded', 'impeding', 'imperative', 'imperialistic', 'imperiling', 'implant', 'implement', 'implemented', 'implementing', 'implication', 'imply', 'impolite', 'import', 'importance', 'important', 'importantly', 'imported', 'importent', 'impose', 'imposed', 'imposes', 'imposing', 'impossible', 'impoverished', 'impractical', 'impress', 'impressed', 'impression', 'impressive', 'imprisoned', 'imprisonment', 'improper', 'improve', 'improved', 'improvement', 'improves', 'improving', 'imprudent', 'impulsively', 'inaccessible', 'inaccurate', 'inactivity', 'inadequate', 'inappropriate', 'inasmuch', 'incapable', 'incent', 'incentive', 'inch', 'incident', 'inclined', 'include', 'included', 'includes', 'including', 'incoherent', 'income', 'incoming', 'incompetence', 'incompetent', 'incomplete', 'inconvenience', 'incorporated', 'incorporation', 'incorrect', 'incorrectly', 'increase', 'increased', 'increasing', 'increasingly', 'incredible', 'indeed', 'indefinitely', 'independence', 'independency', 'independent', 'independently', 'independly', 'india', 'indian', 'indicate', 'indicated', 'indicates', 'indicating', 'indifferent', 'indira', 'indirect', 'indirectly', 'indispensable', 'indispensible', 'indisputable', 'individual', 'individualism', 'individuality', 'individually', 'indonesia', 'indonesian', 'indoor', 'indoors', 'indulge', 'industrial', 'industrialized', 'industrious', 'industry', 'inefficient', 'inessential', 'inevitable', 'inevitably', 'inexcusable', 'inexhaustible', 'inexpensive', 'infectious', 'inferior', 'infinete', 'infinite', 'inflation', 'inflict', 'influence', 'influenced', 'influencing', 'influential', 'influx', 'inform', 'informal', 'informatin', 'information', 'informative', 'informed', 'informing', 'infrastructure', 'ingenious', 'ingrained', 'ingredient', 'inhabitant', 'inhale', 'inhales', 'inherit', 'inherited', 'inhumane', 'iniquitous', 'initial', 'initially', 'initiated', 'initiative', 'injected', 'injection', 'injured', 'injury', 'innate', 'inner', 'innocent', 'innovate', 'innovation', 'innovative', 'input', 'inroad', 'insalubrious', 'insanity', 'insemenation', 'inside', 'insight', 'insignificantly', 'insist', 'insisting', 'insists', 'insomnia', 'inspiration', 'inspirational', 'inspire', 'inspired', 'inspires', 'inspiring', 'instability', 'installation', 'installed', 'instance', 'instant', 'instantly', 'instead', 'instend', 'instilled', 'instinct', 'institute', 'institution', 'instruction', 'instructive', 'instructor', 'instrument', 'insufficient', 'insure', 'intake', 'intangible', 'integral', 'integrated', 'integration', 'intellectual', 'intelligence', 'intend', 'intended', 'intense', 'intensify', 'intensive', 'intensively', 'intent', 'intention', 'intentionally', 'interact', 'interacting', 'interaction', 'interactive', 'intercepted', 'interchangeably', 'interest', 'interested', 'interesting', 'interfere', 'interfered', 'interfering', 'intern', 'internal', 'internation', 'international', 'internationalized', 'internationally', 'internet', 'internship', 'interpersonal', 'interplay', 'interpret', 'interpretation', 'interpreter', 'interrelate', 'interrupt', 'interrupting', 'intervention', 'interview', 'interviewing', 'intimacy', 'intimate', 'intolerable', 'intolerant', 'intoxicant', 'intrigued', 'intrinsic', 'introduce', 'introduced', 'introducing', 'introduction', 'introvert', 'intruded', 'intruder', 'invaded', 'invalid', 'invaluable', 'invent', 'invented', 'inventing', 'invention', 'inventiveness', 'inventor', 'invest', 'invested', 'investigating', 'investigation', 'investing', 'investment', 'invite', 'invited', 'inviting', 'involve', 'involved', 'involves', 'involving', 'ipads', 'iphone', 'iq', 'irak', 'iran', 'iron', 'irrational', 'irreplaceable', 'irresponsibility', 'irresponsible', 'irreversible', 'irrevocable', 'irrisistible', 'irritates', 'island', 'ism', 'isolated', 'isolation', 'issue', 'italian', 'item', 'ivory', 'jackson', 'jade', 'jadeite', 'jam', 'japan', 'japanese', 'jazz', 'jcpenney', 'jealous', 'jealousy', 'jeff', 'jeopardized', 'jeopardizes', 'jeopardizing', 'jet', 'jewel', 'job', 'jobless', 'jockey', 'jog', 'jogging', 'john', 'join', 'joined', 'joining', 'joking', 'jordan', 'josh', 'journalism', 'journalist', 'journey', 'joy', 'joyful', 'judge', 'judged', 'judgement', 'judging', 'judgment', 'judicial', 'jumping', 'jungle', 'junior', 'junk', 'juridical', 'jurisdiction', 'jury', 'justifiable', 'justing', 'juvenile', 'keen', 'keep', 'keeping', 'kept', 'kevin', 'key', 'khan', 'khmer', 'kick', 'kicking', 'kid', 'kidnapping', 'kidvids', 'kill', 'killed', 'killer', 'killing', 'kilogram', 'kilometer', 'kin', 'kind', 'kindergarten', 'kinetic', 'king', 'kingdom', 'kitchen', 'kneading', 'knee', 'knew', 'know', 'knowing', 'knowledge', 'knowledgeable', 'known', 'koala', 'kochhar', 'korea', 'korean', 'lab', 'labelled', 'labor', 'laboratory', 'laborer', 'labour', 'labourous', 'lack', 'lacking', 'lactation', 'laden', 'lagging', 'laid', 'lake', 'land', 'landscape', 'lane', 'language', 'languge', 'lanka', 'laptop', 'large', 'larger', 'largest', 'last', 'lasted', 'lasting', 'late', 'later', 'latest', 'latter', 'laudable', 'laugh', 'laughing', 'launching', 'law', 'lawyer', 'layer', 'layout', 'lazier', 'lazy', 'lcd', 'le', 'lead', 'leader', 'leadership', 'leading', 'leaf', 'leaflet', 'leak', 'leaked', 'leaking', 'lean', 'learn', 'learned', 'learner', 'learnin', 'learning', 'learns', 'learnt', 'least', 'leave', 'leaving', 'lecture', 'lecturer', 'led', 'lee', 'left', 'leftover', 'leg', 'legal', 'legalized', 'legendary', 'legislate', 'leisure', 'lend', 'length', 'lengthen', 'leopard', 'lessen', 'lesser', 'lesson', 'let', 'lethal', 'lethargic', 'letter', 'letting', 'level', 'liable', 'liberal', 'liberate', 'liberated', 'liberty', 'library', 'license', 'lie', 'life', 'lifelong', 'lifestlyle', 'lifestyle', 'lift', 'light', 'lighter', 'lightning', 'lightweight', 'like', 'liked', 'likelihood', 'likely', 'likewise', 'limb', 'limit', 'limitation', 'limited', 'limiting', 'limitless', 'limp', 'line', 'lingers', 'linguistic', 'link', 'linkage', 'linked', 'lion', 'liquidation', 'lisa', 'list', 'listen', 'listener', 'listening', 'lit', 'literaly', 'literature', 'little', 'live', 'lived', 'lively', 'liver', 'living', 'load', 'loafing', 'loan', 'local', 'locally', 'locate', 'located', 'locates', 'locating', 'location', 'lodging', 'log', 'logical', 'london', 'lone', 'loneliness', 'long', 'longer', 'longest', 'longevity', 'look', 'looked', 'looking', 'loose', 'lord', 'lose', 'loser', 'loses', 'losing', 'loss', 'lost', 'lot', 'lottery', 'loud', 'loudly', 'love', 'loved', 'lover', 'low', 'lower', 'luck', 'luckier', 'luckily', 'lucky', 'lung', 'lure', 'luxurious', 'luxury', 'lying', 'lyric', 'machine', 'machinery', 'macro', 'macy', 'madame', 'made', 'magazine', 'magic', 'magnificent', 'mail', 'main', 'mainly', 'maintain', 'maintained', 'maintaining', 'maintenance', 'major', 'majoring', 'majority', 'make', 'maker', 'making', 'malaysia', 'malaysian', 'male', 'malfunction', 'mall', 'man', 'manage', 'managed', 'management', 'manager', 'managing', 'manipulated', 'mankind', 'manner', 'manual', 'manufacture', 'manufacturer', 'manufacturing', 'many', 'maple', 'marathi', 'marble', 'march', 'margaret', 'mari', 'marine', 'mark', 'market', 'marketing', 'marketplace', 'marred', 'marriage', 'married', 'marveled', 'marvelous', 'mary', 'mass', 'massive', 'massively', 'master', 'mastered', 'mastering', 'masterpiece', 'match', 'matching', 'material', 'materialistic', 'math', 'mathematician', 'mathematics', 'matter', 'mature', 'matured', 'maturity', 'maximize', 'maximum', 'may', 'maybe', 'meal', 'mean', 'meaning', 'meaningful', 'meant', 'meanwhile', 'measure', 'measurement', 'meat', 'mechanic', 'mechanical', 'mechanism', 'medal', 'mediabank', 'medical', 'medicare', 'medication', 'medicine', 'mediocre', 'meditation', 'medium', 'meet', 'meeting', 'melancholia', 'meliorate', 'melody', 'melting', 'member', 'memeber', 'memorising', 'memorize', 'memorizing', 'memory', 'men', 'mental', 'mentally', 'mention', 'mentioned', 'mentioning', 'mentoring', 'merchandise', 'mere', 'merely', 'merit', 'message', 'messaging', 'messy', 'met', 'metal', 'meter', 'method', 'methodology', 'metropolis', 'mettle', 'mh', 'mi', 'michael', 'michaelangelo', 'michallengo', 'mickey', 'microscopic', 'microsoft', 'microwave', 'middle', 'midnight', 'might', 'migrate', 'migrated', 'milch', 'mile', 'military', 'milk', 'mill', 'millan', 'million', 'mimic', 'mind', 'minded', 'mindset', 'mine', 'mineral', 'minh', 'minimize', 'minimized', 'minimum', 'mining', 'minion', 'ministry', 'minor', 'minority', 'minute', 'miraculous', 'mirror', 'misbehave', 'misbehaving', 'miscalculation', 'miscarried', 'misdeed', 'miserable', 'miserably', 'misery', 'misguide', 'misinterpretation', 'mislead', 'misleading', 'misled', 'miss', 'missed', 'missile', 'missing', 'mission', 'mistake', 'mistrust', 'misunderstand', 'misunderstanding', 'mitigating', 'mixed', 'mncs', 'mobile', 'mobilization', 'mode', 'model', 'modem', 'moderate', 'modern', 'modernity', 'modest', 'modification', 'modified', 'modifying', 'module', 'mohammedanism', 'mold', 'mom', 'moment', 'mona', 'monetary', 'money', 'monitor', 'monitored', 'monitoring', 'monopolistic', 'monopolization', 'monotonous', 'monotony', 'monoxide', 'monster', 'month', 'monthly', 'monument', 'monumental', 'mood', 'moon', 'moral', 'morale', 'morning', 'mortality', 'mortgage', 'moscow', 'mostly', 'moth', 'mother', 'motherhood', 'motivate', 'motivated', 'motivates', 'motivation', 'motivational', 'motivator', 'motor', 'motorbike', 'motorcycle', 'mountain', 'mouse', 'mouth', 'move', 'moved', 'movement', 'movie', 'moving', 'mp', 'mphils', 'mr', 'msn', 'much', 'multi', 'multicultural', 'multifunctional', 'multimedia', 'multinational', 'multiple', 'multiplies', 'multiracial', 'multitude', 'mummy', 'murder', 'murdered', 'murdering', 'muscle', 'muse', 'museum', 'music', 'musical', 'musically', 'musician', 'must', 'mutual', 'myopia', 'myspace', 'mysterious', 'mysteriously', 'mystique', 'name', 'named', 'namely', 'nano', 'nanotechnology', 'narrowed', 'narrowing', 'nasa', 'nasrin', 'nation', 'national', 'nationalist', 'nationality', 'nationally', 'native', 'natural', 'naturally', 'nature', 'natured', 'navigation', 'nba', 'near', 'nearby', 'nearly', 'neat', 'neccessarily', 'neccessary', 'necessarily', 'necessary', 'necessity', 'need', 'needed', 'needing', 'needy', 'nefarious', 'negative', 'negatively', 'neglect', 'neglected', 'neglecting', 'negotiating', 'negotiation', 'neighbor', 'neighborhood', 'neither', 'nervous', 'net', 'netizens', 'network', 'networking', 'neurologist', 'neuron', 'never', 'nevertheless', 'new', 'newfangled', 'newly', 'news', 'newspaper', 'newton', 'next', 'nice', 'night', 'nightmare', 'nine', 'noble', 'nobody', 'noise', 'noisiness', 'nominated', 'non', 'none', 'nonetheless', 'nonrenewable', 'nonsensical', 'noodle', 'normal', 'normality', 'normally', 'north', 'nosiness', 'notable', 'notably', 'note', 'nothing', 'notice', 'noticeable', 'noticed', 'noticing', 'notion', 'notorious', 'notorous', 'nourish', 'nourishment', 'novel', 'nowadays', 'nowhere', 'noxious', 'nuclear', 'number', 'numberless', 'numerous', 'nurse', 'nurture', 'nurturing', 'nutrient', 'nutrition', 'nutritious', 'obesity', 'obessed', 'obey', 'object', 'objective', 'objectively', 'obligate', 'obligated', 'obligation', 'obligatorily', 'obliged', 'observation', 'observe', 'observing', 'obsessed', 'obsessing', 'obstacle', 'obtain', 'obtained', 'obtaining', 'obvious', 'obviously', 'occasion', 'occasionally', 'occupation', 'occupied', 'occupy', 'occur', 'occurred', 'occurs', 'ocean', 'offence', 'offend', 'offended', 'offender', 'offensive', 'offer', 'offered', 'offering', 'office', 'officer', 'official', 'offspring', 'often', 'oil', 'okay', 'old', 'olden', 'older', 'olympic', 'olympics', 'one', 'oneself', 'online', 'onlines', 'onlooker', 'onto', 'onwards', 'open', 'opened', 'opening', 'operated', 'operates', 'operating', 'operation', 'operational', 'operative', 'opinion', 'oppertunity', 'opponent', 'opportunity', 'oppose', 'opposing', 'opposite', 'opposition', 'opprotunities', 'opt', 'optimal', 'optimize', 'optimizing', 'option', 'optional', 'oral', 'oramaki', 'orbit', 'orchestrated', 'order', 'ordered', 'ordering', 'ordinary', 'organ', 'organic', 'organisation', 'organised', 'organization', 'organize', 'organized', 'organizer', 'organizing', 'orientated', 'orientation', 'oriented', 'origin', 'original', 'originality', 'originally', 'originates', 'origination', 'osetia', 'others', 'otherwise', 'ought', 'ourself', 'outbreak', 'outcome', 'outdoor', 'outdoors', 'outer', 'outfit', 'outgoings', 'outlet', 'outlook', 'outperform', 'outrank', 'outshine', 'outside', 'outstanding', 'outweigh', 'outweighed', 'outweighing', 'outweighs', 'oven', 'overall', 'overcome', 'overcomes', 'overcoming', 'overcrowded', 'overdeveloping', 'overemphasizing', 'overload', 'overlook', 'overlooked', 'overly', 'overpaid', 'overpopulation', 'overseas', 'overtime', 'overuse', 'overusing', 'overweighing', 'overweighs', 'overweight', 'overwhelmed', 'overwhelming', 'owner', 'ownership', 'oxygen', 'oxytocin', 'ozone', 'pace', 'paced', 'package', 'padang', 'page', 'paid', 'pain', 'painful', 'painstaking', 'painstakingly', 'painter', 'painting', 'palace', 'palm', 'palme', 'panda', 'panic', 'panicked', 'panning', 'paparazzo', 'paper', 'parachute', 'paradigm', 'parallel', 'paralyze', 'parameter', 'paramount', 'parantage', 'parent', 'parental', 'parenthood', 'parenting', 'park', 'parking', 'parlor', 'part', 'partiality', 'partially', 'participant', 'participate', 'participating', 'participation', 'particular', 'particularity', 'particularly', 'partly', 'partner', 'party', 'pas', 'pass', 'passed', 'passenger', 'passing', 'passion', 'passionate', 'passive', 'passively', 'past', 'patch', 'paternalistic', 'path', 'patiant', 'patience', 'patient', 'patriotic', 'pattern', 'pave', 'pay', 'payements', 'payer', 'paying', 'payment', 'pea', 'peace', 'peaceful', 'pedro', 'peep', 'peer', 'pen', 'penalized', 'penalty', 'penny', 'pension', 'people', 'per', 'perceive', 'percent', 'percentile', 'perfect', 'perfectly', 'perfectness', 'perform', 'performance', 'performed', 'performer', 'performing', 'performs', 'perhaps', 'period', 'perish', 'permanent', 'permanently', 'permeated', 'permeating', 'permission', 'permit', 'permitted', 'perpetually', 'perseverance', 'persistence', 'persistent', 'persistently', 'person', 'personal', 'personality', 'personally', 'personaly', 'perspective', 'perspiration', 'persuasive', 'perturbed', 'pervasively', 'pessimistic', 'pesticide', 'pet', 'petrol', 'petty', 'pharmaceutical', 'phase', 'phased', 'phd', 'phenomenal', 'phenomenon', 'philosophy', 'phone', 'photo', 'photograph', 'photography', 'physic', 'physical', 'physically', 'physician', 'physiological', 'piano', 'picasso', 'pick', 'picking', 'pickpocket', 'pickpocketing', 'picture', 'picturesque', 'piece', 'pieter', 'pig', 'pill', 'pillar', 'pine', 'pinpoint', 'pitfall', 'pivotal', 'pizza', 'place', 'placed', 'placing', 'plain', 'plan', 'plane', 'planet', 'planing', 'planned', 'planner', 'planning', 'plant', 'plastic', 'plate', 'platform', 'play', 'played', 'player', 'playground', 'playing', 'pleasant', 'pleased', 'pleasing', 'pleasure', 'plentiful', 'plenty', 'plight', 'plot', 'pm', 'pneumonia', 'poaching', 'pocket', 'point', 'polar', 'pole', 'police', 'policeman', 'policy', 'polish', 'polishing', 'polite', 'politeness', 'politian', 'politic', 'political', 'politically', 'politics', 'poll', 'pollutant', 'polluted', 'polluting', 'pollution', 'ponder', 'pool', 'poor', 'poorer', 'poorest', 'poorly', 'pop', 'popular', 'popularity', 'popularize', 'population', 'pornography', 'portable', 'porthole', 'portion', 'portrayed', 'pose', 'posed', 'posing', 'position', 'positive', 'positively', 'posse', 'possessed', 'possessing', 'possession', 'possibility', 'possible', 'possibly', 'post', 'poster', 'postpone', 'posture', 'potential', 'potentially', 'pour', 'poverty', 'power', 'powered', 'powerful', 'powerpoint', 'practical', 'practically', 'practice', 'practicing', 'pragmatic', 'pre', 'preached', 'precaution', 'precious', 'precise', 'precisely', 'precision', 'preconception', 'precondition', 'predator', 'predecessor', 'predicament', 'predict', 'predominated', 'prefer', 'preferable', 'preferably', 'preference', 'preferred', 'prefers', 'pregnant', 'prejudice', 'premise', 'preparation', 'prepare', 'prepared', 'prepares', 'preparing', 'prerequisit', 'prerequisite', 'presence', 'present', 'presentation', 'presented', 'presenter', 'preservation', 'preserve', 'preserved', 'preserving', 'preset', 'president', 'press', 'pressing', 'pressure', 'pressured', 'pressurising', 'prestigious', 'presume', 'pretty', 'prevalent', 'prevent', 'preventative', 'preventing', 'prevention', 'prevents', 'previous', 'previously', 'prey', 'price', 'priceless', 'pride', 'primary', 'primate', 'prime', 'principle', 'print', 'prior', 'prioritised', 'prioritized', 'prioritizing', 'priority', 'prison', 'privacy', 'privat', 'private', 'privately', 'privilege', 'privileged', 'pro', 'probability', 'probable', 'probably', 'problem', 'problematic', 'procedure', 'proceed', 'process', 'processor', 'procrastination', 'procure', 'produce', 'produced', 'producer', 'producing', 'product', 'production', 'productive', 'productivity', 'prof', 'profession', 'professional', 'professor', 'proficiency', 'proficient', 'proficiently', 'profit', 'profitable', 'profound', 'program', 'programme', 'programmed', 'programmer', 'programming', 'progress', 'prohibit', 'prohibited', 'prohibiting', 'project', 'projector', 'proliferation', 'prolong', 'prolonged', 'prominent', 'prominently', 'promising', 'promote', 'promoted', 'promotes', 'promoting', 'promotion', 'prompt', 'prompting', 'promptly', 'prone', 'proneness', 'propagate', 'proper', 'properly', 'property', 'propitious', 'proponent', 'proportion', 'proposal', 'proposed', 'proselytized', 'prositution', 'prospect', 'prospective', 'prosper', 'prosperity', 'prosperous', 'prostitute', 'protect', 'protected', 'protecting', 'protection', 'protector', 'protects', 'protein', 'proud', 'proudly', 'proudness', 'pround', 'prove', 'proved', 'proven', 'proverb', 'provide', 'provided', 'provider', 'provides', 'providing', 'province', 'provision', 'provoked', 'prudent', 'psychological', 'psychology', 'psychopath', 'puberty', 'public', 'publication', 'publicized', 'publicizing', 'publicly', 'publish', 'published', 'puffing', 'pull', 'pulling', 'pumped', 'punch', 'punctual', 'punish', 'punished', 'punishment', 'pupil', 'puppet', 'purchase', 'purchased', 'purchasing', 'pure', 'purely', 'purpose', 'purse', 'pursing', 'pursue', 'pursued', 'pursues', 'pursuing', 'pursuit', 'push', 'pushing', 'put', 'putin', 'putting', 'qualification', 'qualified', 'qualify', 'qualitatively', 'quality', 'quantity', 'quantum', 'quarrel', 'quarter', 'quarterly', 'queen', 'query', 'question', 'questionnaire', 'quick', 'quicker', 'quickly', 'quiet', 'quintessence', 'quintessential', 'quit', 'quite', 'race', 'racing', 'radio', 'rage', 'railway', 'rain', 'rainforest', 'raise', 'raised', 'raising', 'rampant', 'range', 'ranging', 'rank', 'ranking', 'rape', 'rapid', 'rapidly', 'rare', 'rarely', 'rarest', 'rate', 'rated', 'rather', 'rating', 'ratio', 'rational', 'rationally', 'rattle', 'raw', 'ray', 'reach', 'reachable', 'reached', 'reaching', 'react', 'reaction', 'read', 'reader', 'readership', 'readily', 'reading', 'ready', 'real', 'realistic', 'reality', 'realization', 'realize', 'realized', 'realizing', 'really', 'realm', 'reap', 'reaper', 'reaping', 'reason', 'reasonable', 'reasoning', 'reassess', 'recedes', 'receive', 'received', 'receiver', 'receives', 'receiving', 'recent', 'recently', 'recession', 'recharge', 'recipe', 'reckless', 'reckon', 'reclamation', 'recognise', 'recognition', 'recognizably', 'recognize', 'recognized', 'recommend', 'recommendation', 'recommended', 'record', 'recorded', 'recording', 'recover', 'recreate', 'recreation', 'recreational', 'recruit', 'recuperate', 'recyclable', 'reduce', 'reduced', 'reduces', 'reducing', 'reduction', 'reef', 'refer', 'reference', 'reflect', 'reflected', 'reflecting', 'reflection', 'reflects', 'reforming', 'refresh', 'refreshed', 'refreshing', 'refreshment', 'refrigerant', 'refuse', 'regard', 'regarded', 'regarding', 'regardless', 'region', 'regional', 'regret', 'regretting', 'regular', 'regularly', 'regulate', 'regulated', 'regulation', 'rehabilitation', 'rein', 'reinforced', 'reinforces', 'reiterate', 'relate', 'related', 'relates', 'relating', 'relation', 'relationship', 'relative', 'relatively', 'relativity', 'relax', 'relaxation', 'relaxed', 'relaxes', 'relaxing', 'relay', 'release', 'released', 'releasing', 'relegious', 'relevant', 'reliability', 'reliable', 'reliance', 'reliant', 'relief', 'relieve', 'relieved', 'relieving', 'religion', 'religious', 'relocated', 'reluctant', 'rely', 'relying', 'remain', 'remaining', 'remains', 'remarkable', 'remarkably', 'remember', 'remembered', 'remembers', 'reminder', 'reminds', 'remote', 'remove', 'removed', 'removing', 'render', 'rendered', 'renewable', 'renewing', 'renovate', 'renovating', 'rent', 'rental', 'repair', 'repairing', 'repeat', 'repeated', 'repeating', 'repercussion', 'replace', 'replaced', 'replacement', 'replacing', 'report', 'reported', 'reporter', 'reporting', 'represent', 'representing', 'reproduction', 'republic', 'reputation', 'request', 'requested', 'require', 'required', 'requirement', 'requires', 'requiring', 'requisite', 'rescue', 'rescued', 'reseachs', 'research', 'researcher', 'researching', 'reservation', 'reserve', 'reserved', 'reserving', 'resident', 'residential', 'resist', 'resolution', 'resolve', 'resource', 'respect', 'respected', 'respective', 'respiration', 'respiratory', 'respond', 'responded', 'responding', 'response', 'responsibilies', 'responsibility', 'responsibl', 'responsible', 'rest', 'restart', 'restaurant', 'restorated', 'restore', 'restored', 'restrain', 'restraint', 'restrict', 'restricted', 'restricting', 'restriction', 'restrictive', 'restricts', 'result', 'resulted', 'resulting', 'resume', 'resuming', 'retail', 'retire', 'retired', 'retiree', 'retirement', 'return', 'returning', 'reveal', 'revealed', 'reveals', 'revenge', 'revenue', 'reverse', 'review', 'reviewing', 'revolt', 'revolution', 'revolutionized', 'reward', 'rewarded', 'rewarding', 'rewriting', 'rhythm', 'rice', 'rich', 'richer', 'richest', 'richness', 'rid', 'ride', 'ridiculous', 'riding', 'rifle', 'right', 'rigorous', 'rise', 'risen', 'rising', 'risk', 'risky', 'rival', 'river', 'road', 'roadway', 'rob', 'robber', 'robbery', 'robot', 'robust', 'rocket', 'role', 'ronaldo', 'roof', 'room', 'roommate', 'root', 'rooted', 'rough', 'roughly', 'round', 'rounded', 'route', 'routine', 'rubbish', 'rubella', 'rude', 'ruin', 'ruined', 'ruining', 'rule', 'ruled', 'run', 'runner', 'running', 'rural', 'rush', 'rushdie', 'rushed', 'russia', 'russian', 'rustic', 'sacrifice', 'sacrificing', 'sadness', 'safe', 'safeguard', 'safely', 'safer', 'safety', 'said', 'sailing', 'sake', 'salad', 'salary', 'sale', 'salesman', 'salesmanship', 'salient', 'salman', 'salt', 'sang', 'sanitation', 'sanity', 'santa', 'sars', 'sat', 'satellite', 'satiric', 'satisfaction', 'satisfactory', 'satisfied', 'satisfies', 'satisfy', 'satisfying', 'saturated', 'save', 'saved', 'saving', 'saw', 'say', 'saying', 'scale', 'scandal', 'scene', 'scenery', 'schedule', 'scholar', 'scholarship', 'school', 'schooling', 'schoolwork', 'science', 'scientific', 'scientifically', 'scientist', 'scope', 'score', 'scored', 'scorer', 'scoring', 'scratch', 'screen', 'screwed', 'script', 'scruple', 'scrutinizing', 'sculpture', 'sea', 'seagames', 'search', 'searched', 'searching', 'season', 'seasonal', 'seat', 'second', 'secondary', 'section', 'sector', 'secure', 'secured', 'securing', 'security', 'sedentary', 'seduced', 'see', 'seeing', 'seek', 'seeker', 'seeking', 'seem', 'seemed', 'seems', 'seen', 'segment', 'seldom', 'select', 'selected', 'selection', 'selective', 'self', 'selfish', 'sell', 'selling', 'semester', 'send', 'sending', 'senior', 'sens', 'sensation', 'sensationalism', 'sense', 'sensible', 'sensibly', 'sensitive', 'sensor', 'sent', 'sentence', 'sentient', 'sentiment', 'separate', 'separation', 'serf', 'series', 'serious', 'seriously', 'serve', 'served', 'server', 'service', 'serving', 'session', 'set', 'setting', 'setup', 'seven', 'seventeen', 'several', 'severe', 'severely', 'sex', 'sexual', 'shabby', 'shackle', 'shake', 'shakespeare', 'shall', 'shampoo', 'shanghai', 'shape', 'share', 'shared', 'sharing', 'sharp', 'sharpens', 'sharpest', 'sharply', 'sheer', 'shelf', 'shelter', 'shield', 'shift', 'shifted', 'shine', 'shining', 'shock', 'shocked', 'shocking', 'shoot', 'shooting', 'shop', 'shopping', 'short', 'shortage', 'shortcoming', 'shorten', 'shortened', 'shortest', 'shortfall', 'shortly', 'shortsighted', 'shot', 'show', 'showed', 'shower', 'showing', 'shown', 'shun', 'shy', 'sick', 'side', 'sigh', 'sight', 'sighted', 'sign', 'significance', 'significant', 'significantly', 'silly', 'silt', 'silver', 'similar', 'similarity', 'similarly', 'simple', 'simpler', 'simplifies', 'simplify', 'simply', 'simulate', 'simultaneously', 'sin', 'since', 'sincere', 'sing', 'singer', 'singing', 'single', 'sings', 'sinking', 'sinned', 'sister', 'sit', 'site', 'sitting', 'situated', 'situation', 'six', 'size', 'skeptical', 'skiing', 'skill', 'skilled', 'skillful', 'skillfully', 'skin', 'sky', 'skydiving', 'skype', 'skyrocketing', 'skyscraper', 'slang', 'slave', 'sleep', 'sleeping', 'sleepless', 'sleeve', 'slight', 'slogan', 'slow', 'slower', 'slowly', 'sluggard', 'sluggish', 'sm', 'small', 'smaller', 'smallest', 'smallpox', 'smart', 'smell', 'smile', 'smoke', 'smoked', 'smoker', 'smoking', 'smooth', 'smoother', 'smoothly', 'smuggling', 'snack', 'sneezing', 'snuffing', 'soaring', 'soccer', 'sociable', 'social', 'socialization', 'socialize', 'socializing', 'socially', 'society', 'sociocultural', 'socioeconomic', 'sociologist', 'soft', 'software', 'soil', 'solar', 'sold', 'soldier', 'sole', 'solely', 'solid', 'solidarity', 'solution', 'solve', 'solved', 'solving', 'somebody', 'someday', 'somehow', 'someone', 'something', 'somethings', 'sometime', 'sometimes', 'somewhere', 'son', 'song', 'soon', 'sooner', 'sophisticated', 'sophistication', 'sorry', 'sort', 'soul', 'sound', 'soundness', 'soup', 'source', 'south', 'southeast', 'southern', 'souvenir', 'soviet', 'sow', 'soy', 'space', 'spaceship', 'spam', 'span', 'spare', 'spared', 'speak', 'speaker', 'speaking', 'speaks', 'special', 'specialist', 'specialization', 'specialize', 'specialized', 'specially', 'specie', 'specific', 'specifically', 'specify', 'specimen', 'specious', 'spectacular', 'spectator', 'speech', 'speed', 'speeding', 'speedy', 'spell', 'spelling', 'spend', 'spending', 'spends', 'spent', 'spirit', 'spiritual', 'spite', 'splendid', 'split', 'splitting', 'spoil', 'spoke', 'spoken', 'sponsor', 'sponsoring', 'spore', 'sport', 'sporting', 'spot', 'spouse', 'spread', 'spring', 'spur', 'squeezed', 'sri', 'st', 'stabilising', 'stability', 'stable', 'stably', 'stadium', 'staff', 'stage', 'stair', 'staircase', 'stake', 'stakeholder', 'stand', 'standard', 'standardized', 'standing', 'star', 'stare', 'start', 'started', 'starting', 'starvation', 'starving', 'state', 'stated', 'statement', 'statically', 'stating', 'station', 'statistic', 'statue', 'status', 'stay', 'staying', 'steady', 'steal', 'steering', 'stegosaurus', 'stem', 'step', 'stern', 'stick', 'sticking', 'stiff', 'still', 'stimulant', 'stimulate', 'stimulates', 'stimulation', 'stimulus', 'stock', 'stocked', 'stolen', 'stop', 'stopped', 'store', 'stored', 'storm', 'storming', 'story', 'straight', 'strain', 'stranger', 'strategical', 'strategy', 'stream', 'streaming', 'street', 'strength', 'strengthen', 'strengthened', 'stress', 'stressful', 'stretching', 'stricken', 'strict', 'strictly', 'stringent', 'strive', 'stroke', 'strong', 'stronger', 'strongest', 'strongly', 'struck', 'structural', 'structure', 'structuring', 'struggle', 'struggled', 'struggling', 'strumming', 'stuck', 'student', 'studied', 'study', 'studying', 'stuff', 'stuffy', 'stumble', 'stupid', 'style', 'sub', 'subject', 'subjected', 'subjective', 'submerged', 'submit', 'submitting', 'subordinaries', 'subordinate', 'subsequent', 'subsequently', 'subsidize', 'subsidizing', 'substance', 'substantial', 'substitute', 'substituted', 'suburb', 'suburban', 'subway', 'succeed', 'succeeded', 'success', 'successful', 'successfully', 'sudan', 'sudanese', 'sudden', 'suddenly', 'sued', 'suffer', 'suffered', 'suffering', 'suffers', 'sufficient', 'sufficiently', 'sugar', 'sugesstions', 'suggest', 'suggestion', 'suggests', 'suicide', 'suit', 'suitable', 'suited', 'sum', 'summer', 'sun', 'sunbathing', 'sunsilk', 'super', 'superb', 'superficial', 'superior', 'superseded', 'supervising', 'supervision', 'supervisor', 'supervisory', 'supplementary', 'supplemented', 'supplied', 'supply', 'supplying', 'support', 'supported', 'supporter', 'supporting', 'supportive', 'suppose', 'supposed', 'sure', 'surely', 'surf', 'surface', 'surfing', 'surgery', 'surging', 'surpass', 'surplus', 'surprise', 'surprised', 'surprising', 'surprisingly', 'surrender', 'surrounded', 'surrounding', 'surroundings', 'surveillance', 'survey', 'survival', 'survive', 'survived', 'sushi', 'suspect', 'suspected', 'suspicion', 'suspicious', 'sustain', 'sustainability', 'sustainable', 'sustaining', 'sustainment', 'sutra', 'swayed', 'swear', 'sweet', 'sweetness', 'swept', 'swim', 'swimming', 'swimpool', 'switched', 'syllabus', 'symbol', 'symbolized', 'sympathize', 'symphony', 'syndrome', 'synthesis', 'system', 'systematic', 'systematical', 'table', 'tableware', 'tabloid', 'tackle', 'tackled', 'tackling', 'tailoring', 'taiwan', 'take', 'taken', 'taker', 'taking', 'tale', 'talent', 'talented', 'talk', 'talking', 'tangible', 'tango', 'tank', 'tape', 'target', 'targeted', 'tarnished', 'task', 'taslima', 'taste', 'tasty', 'taught', 'tax', 'taxation', 'taxpayer', 'teach', 'teached', 'teacher', 'teaching', 'team', 'teambuilding', 'teamwork', 'tear', 'tech', 'technical', 'technician', 'technique', 'technogy', 'technological', 'technology', 'tedious', 'teemed', 'teen', 'teenage', 'teenager', 'teenages', 'telecommunication', 'telenovela', 'telephone', 'television', 'tell', 'temper', 'temperature', 'temple', 'tempo', 'temporarily', 'temptation', 'tempted', 'tempting', 'ten', 'tenant', 'tend', 'tendency', 'tender', 'tenderly', 'tending', 'tends', 'tense', 'tenser', 'tension', 'term', 'terminate', 'terrible', 'terribly', 'territory', 'terrorism', 'terrorist', 'terroristic', 'terrorize', 'tertiary', 'test', 'tested', 'testing', 'tete', 'text', 'textbook', 'texting', 'texture', 'th', 'thailand', 'thank', 'thanks', 'thatcher', 'theater', 'theatre', 'theft', 'themselve', 'theoretical', 'theoretically', 'theorically', 'theoritical', 'theory', 'therapy', 'thereby', 'therefore', 'thesis', 'thick', 'thief', 'thier', 'thievery', 'thin', 'thing', 'think', 'thinking', 'thinner', 'third', 'thirty', 'thomas', 'thorough', 'thoroughly', 'though', 'thought', 'thoughtful', 'thousand', 'threat', 'threaten', 'threatened', 'threatening', 'threatens', 'three', 'thriller', 'thrive', 'thriving', 'throughout', 'throwing', 'thrown', 'thrust', 'thuggery', 'thursday', 'thus', 'thy', 'ticket', 'ticklish', 'tidy', 'tie', 'tiger', 'tight', 'tighter', 'tightly', 'till', 'time', 'timely', 'tiny', 'tired', 'tiredness', 'tirelessly', 'tissue', 'title', 'tobacco', 'today', 'toefl', 'together', 'token', 'tokyo', 'told', 'tolerate', 'toll', 'tom', 'tomorrow', 'ton', 'tongue', 'took', 'tool', 'top', 'topic', 'tosix', 'total', 'totally', 'touch', 'touched', 'touching', 'tough', 'toughest', 'tour', 'tourism', 'tourist', 'toward', 'towards', 'tower', 'town', 'toxic', 'toy', 'trace', 'traced', 'track', 'tracked', 'tracking', 'trade', 'trading', 'tradition', 'traditional', 'traditionally', 'traditonal', 'tradtions', 'traffic', 'tragedy', 'tragic', 'trail', 'train', 'trained', 'trainer', 'training', 'trait', 'tranquil', 'tranquility', 'transaction', 'transfer', 'transferred', 'transferring', 'transformation', 'transformed', 'transforms', 'translate', 'translated', 'translator', 'transmitted', 'transnational', 'transport', 'transportation', 'transporting', 'trap', 'traumatize', 'travel', 'traveled', 'traveler', 'traveling', 'travelling', 'tread', 'treasure', 'treasuring', 'treat', 'treated', 'treating', 'treatment', 'tree', 'tremendous', 'tremendously', 'trend', 'trial', 'trickery', 'tried', 'trigger', 'triggered', 'triggering', 'trillion', 'trim', 'trimmed', 'trimming', 'trip', 'triumph', 'trivial', 'trivials', 'trong', 'trophy', 'trouble', 'troublesome', 'truck', 'true', 'truly', 'trumm', 'trumpet', 'trust', 'trustworthiness', 'trustworthy', 'truth', 'try', 'trying', 'tsunami', 'tube', 'tuition', 'tune', 'turkey', 'turkish', 'turn', 'turned', 'turning', 'tussaud', 'tutor', 'tutorial', 'tutoring', 'tv', 'twelve', 'twenty', 'twice', 'twitter', 'two', 'type', 'typical', 'typically', 'typing', 'tzu', 'ugly', 'ultimate', 'ultimately', 'ultra', 'un', 'unable', 'unappreciative', 'unavoidable', 'unaware', 'unbalance', 'unbearable', 'uncertainty', 'unchanged', 'unchecked', 'uncle', 'unclear', 'uncomfortable', 'uncomfortably', 'uncommon', 'unconditionally', 'unconscious', 'unconsciously', 'uncontrolled', 'uncultivated', 'undeniable', 'undeniably', 'underdeveloped', 'underestimated', 'undergo', 'undergoing', 'undergone', 'undergraduate', 'underground', 'underlying', 'undermine', 'undernourished', 'understand', 'understanding', 'understands', 'understood', 'underwater', 'underwear', 'undeveloped', 'undoubted', 'undoubtedly', 'uneducated', 'unemployed', 'unemployment', 'unethical', 'unexpected', 'unexpectedly', 'unfair', 'unfairness', 'unfamiliar', 'unforgettable', 'unfortunate', 'unfortunately', 'unfriendly', 'unhappy', 'unhealthy', 'unicq', 'unimportant', 'uninhabitable', 'union', 'unique', 'uniqueness', 'unit', 'unite', 'united', 'universal', 'universally', 'university', 'univesity', 'unjustified', 'unknowingly', 'unknown', 'unlawful', 'unleash', 'unless', 'unlike', 'unlikely', 'unmanned', 'unnatural', 'unnecessarily', 'unnecessary', 'unnoticed', 'unpaid', 'unpersuasive', 'unpleasant', 'unpopular', 'unprecedented', 'unpredictable', 'unprepared', 'unpreventable', 'unpromising', 'unreal', 'unrealistic', 'unreality', 'unreasonable', 'unresponsiveness', 'unrest', 'unrivalled', 'unsatisfied', 'unscrupulous', 'unsettling', 'unsociable', 'unsuitable', 'untruthfulness', 'unusual', 'unwilling', 'unwise', 'upcoming', 'update', 'updated', 'upgrading', 'uplift', 'upon', 'upper', 'upset', 'upward', 'urban', 'urbanization', 'urge', 'urgency', 'urgent', 'us', 'usa', 'usable', 'usage', 'use', 'used', 'useful', 'useless', 'user', 'using', 'usual', 'usually', 'utility', 'utilization', 'utilize', 'utilized', 'utilizing', 'utopia', 'vacancy', 'vacant', 'vacation', 'vaccine', 'vain', 'vairtey', 'valid', 'valuable', 'value', 'valued', 'valve', 'vandalism', 'vanguard', 'vanish', 'vanished', 'vanishing', 'vapour', 'variation', 'varied', 'varies', 'variety', 'various', 'varying', 'vas', 'vast', 'vastly', 'vegetable', 'vegetarian', 'vehicle', 'venue', 'verbal', 'verdict', 'verify', 'versa', 'versatile', 'version', 'vertebral', 'vet', 'veteran', 'vexation', 'vhs', 'via', 'viber', 'vice', 'victim', 'victory', 'video', 'videotape', 'vietnam', 'vietnamese', 'view', 'viewer', 'viewing', 'viewpoint', 'viharas', 'village', 'vinci', 'violated', 'violation', 'violence', 'violent', 'violet', 'virtual', 'virtually', 'virtue', 'virus', 'visible', 'visibly', 'vision', 'visit', 'visited', 'visiting', 'visitor', 'visual', 'visually', 'visuals', 'vital', 'vivid', 'vividly', 'vocabulary', 'vocation', 'vocational', 'voice', 'volume', 'volunteer', 'vulgar', 'vulnerable', 'wading', 'wait', 'waited', 'waiting', 'wake', 'walk', 'walking', 'walt', 'wandering', 'want', 'wanted', 'war', 'ware', 'warm', 'warmer', 'warming', 'warmth', 'warning', 'warship', 'wash', 'washed', 'washing', 'wastage', 'waste', 'wasted', 'waster', 'wasting', 'watch', 'watched', 'watching', 'water', 'watering', 'wave', 'waved', 'way', 'wdtv', 'weak', 'weaker', 'weakness', 'wealth', 'wealthier', 'wealthy', 'weapon', 'wear', 'wearing', 'weather', 'web', 'webpage', 'website', 'week', 'weekend', 'weichat', 'weight', 'weird', 'welcome', 'welcomed', 'welfare', 'well', 'wellbeing', 'went', 'western', 'whatever', 'whatsapp', 'wheat', 'whenever', 'whereas', 'whereby', 'wherein', 'wherever', 'whether', 'while', 'whiling', 'whim', 'white', 'whole', 'wholesome', 'wholly', 'whose', 'wide', 'widely', 'widen', 'wider', 'widespread', 'wife', 'wikileaks', 'wikipedia', 'wild', 'wilderness', 'wildlife', 'wildness', 'willing', 'willingness', 'win', 'wind', 'window', 'wing', 'winner', 'winning', 'winter', 'wisdom', 'wise', 'wisely', 'wiser', 'wish', 'withdrawn', 'within', 'without', 'witness', 'witnessed', 'witnessing', 'wok', 'woking', 'woman', 'wonder', 'wonderful', 'wood', 'word', 'wore', 'work', 'workaholic', 'workday', 'worked', 'worker', 'workforce', 'working', 'workload', 'workmate', 'workpiece', 'workplace', 'workshop', 'world', 'worldwide', 'worried', 'worry', 'worrying', 'worse', 'worsen', 'worsened', 'worsens', 'worship', 'worst', 'worth', 'worthless', 'worthlessly', 'worthwhile', 'worthy', 'would', 'write', 'writer', 'writing', 'written', 'wrong', 'wrongly', 'wrote', 'yahoo', 'yandex', 'yang', 'year', 'yell', 'yellow', 'yet', 'yield', 'yielding', 'york', 'young', 'younger', 'youngster', 'youth', 'zappa', 'zero', 'zone', 'zoo', 'zookeepers']\n"
     ]
    }
   ],
   "source": [
    "\n",
    "# import feature extraction methods from sklearn\n",
    "from sklearn.feature_extraction.text import CountVectorizer\n",
    "\n",
    "# instantiate a vectoriezer\n",
    "bow_vect = CountVectorizer()\n",
    "\n",
    "# use it to extract features from training data\n",
    "text_dtm = bow_vect.fit_transform(df['clean_text'])\n",
    "vocab = bow_vect.get_feature_names()\n",
    "one_gram_vocab = [word for word in vocab if len(word.split()) == 1]\n",
    "num_one_gram_words = len(one_gram_vocab)\n",
    "total_unique_words = len(vocab)\n",
    "\n",
    "print(f\"Shape of text_dtm (# of docs, # of unique vocabulary): {text_dtm.shape}\")\n",
    "print(f\"Total number of unique words in the vocabulary (all n-grams): {total_unique_words}\")\n",
    "print(f\"Number of 1-gram vocabulary words: {num_one_gram_words}\")\n",
    "print(f\"Vocab: {bow_vect.get_feature_names()}\")"
   ]
  },
  {
   "cell_type": "markdown",
   "id": "768d45e0",
   "metadata": {},
   "source": [
    "# Apply Vectorization using Bag of Word Vectorization(with following parameters) on the raw text column.\n",
    "####   \n",
    "        1. token_pattern=None\n",
    "        2. tokenizer=callable \n",
    "         - use nltk word tokenizer\n",
    "        3. ngram_range=(1, **n)\n",
    "        4. lowercase=false\n",
    "        5. preprocessor=callable \n",
    "         - A valid token should only contain alphanumeric and \".\"\n",
    "         - Convert to lower\n",
    "         - word tokenize\n",
    "         - stop word removal\n",
    "         - lemmatization\n",
    "        6. stop_words=None\n",
    "\n"
   ]
  },
  {
   "cell_type": "code",
   "execution_count": 76,
   "id": "bdbe8b4e",
   "metadata": {},
   "outputs": [],
   "source": [
    "def tokenizer(doc):\n",
    "    return nltk.word_tokenize(doc)"
   ]
  },
  {
   "cell_type": "code",
   "execution_count": 77,
   "id": "cfc24df4",
   "metadata": {},
   "outputs": [
    {
     "name": "stdout",
     "output_type": "stream",
     "text": [
      "Number of unique unigrams: 5982\n",
      "Number of unique bigrams: 36041\n",
      "Number of unique trigrams: 37839\n"
     ]
    }
   ],
   "source": [
    "\n",
    "def get_vocabulary_size(text, n):\n",
    "\n",
    "  # instantiate a vectoriezer\n",
    "    bow_vect = CountVectorizer(token_pattern=None,\n",
    "                           tokenizer=tokenizer, \n",
    "                           ngram_range=(n, n), \n",
    "                           lowercase=False, \n",
    "                           preprocessor=clean, \n",
    "                           stop_words=None)\n",
    "\n",
    "  # Running BOW on Raw text column \n",
    "    rawtext_vect = bow_vect.fit_transform(text)\n",
    "    vocabulary_size = len(bow_vect.vocabulary_)\n",
    "    return vocabulary_size\n",
    "\n",
    "# Get vocabulary size for unigrams (1-gram)\n",
    "unigram_vocab_size = get_vocabulary_size(df[\"text\"], 1)\n",
    "print(f\"Number of unique unigrams: {unigram_vocab_size}\")\n",
    "\n",
    "# Get vocabulary size for bigrams (2-gram)\n",
    "bigram_vocab_size = get_vocabulary_size(df[\"text\"], 2)\n",
    "print(f\"Number of unique bigrams: {bigram_vocab_size}\")\n",
    "\n",
    "# Get vocabulary size for trigrams (3-gram)\n",
    "trigram_vocab_size = get_vocabulary_size(df[\"text\"], 3)\n",
    "print(f\"Number of unique trigrams: {trigram_vocab_size}\")\n",
    "\n"
   ]
  },
  {
   "cell_type": "code",
   "execution_count": null,
   "id": "4f7a18a8",
   "metadata": {},
   "outputs": [],
   "source": []
  }
 ],
 "metadata": {
  "kernelspec": {
   "display_name": "Python 3 (ipykernel)",
   "language": "python",
   "name": "python3"
  },
  "language_info": {
   "codemirror_mode": {
    "name": "ipython",
    "version": 3
   },
   "file_extension": ".py",
   "mimetype": "text/x-python",
   "name": "python",
   "nbconvert_exporter": "python",
   "pygments_lexer": "ipython3",
   "version": "3.9.7"
  }
 },
 "nbformat": 4,
 "nbformat_minor": 5
}
